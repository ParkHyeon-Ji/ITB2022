{
  "nbformat": 4,
  "nbformat_minor": 0,
  "metadata": {
    "colab": {
      "provenance": [],
      "include_colab_link": true
    },
    "kernelspec": {
      "name": "python3",
      "display_name": "Python 3"
    },
    "language_info": {
      "name": "python"
    }
  },
  "cells": [
    {
      "cell_type": "markdown",
      "metadata": {
        "id": "view-in-github",
        "colab_type": "text"
      },
      "source": [
        "<a href=\"https://colab.research.google.com/github/ParkHyeon-Ji/ITB2022/blob/main/IT%EC%99%80_%EB%B9%84%EC%A6%88%EB%8B%88%EC%8A%A4_%ED%98%81%EC%8B%A0_%EB%B6%84%EB%A5%98%EA%B3%BC%EC%A0%9C_%EC%B5%9C%EC%A2%85.ipynb\" target=\"_parent\"><img src=\"https://colab.research.google.com/assets/colab-badge.svg\" alt=\"Open In Colab\"/></a>"
      ]
    },
    {
      "cell_type": "markdown",
      "source": [
        "# *가족자원경영학과 1912975 박현지*"
      ],
      "metadata": {
        "id": "k1FtM8VL5Snc"
      }
    },
    {
      "cell_type": "markdown",
      "source": [
        "**종속 변수** - 음주여부\n",
        "\n",
        "**독립 변수** - 음주여부를 제외한 모든 변수 \n",
        "\n",
        "**사용한 분류 모델** - 의사결정나무와 랜덤포레스트\n",
        "\n",
        "**사용한 분류 모델 평가** - 교차 검증\n"
      ],
      "metadata": {
        "id": "zXfnSGcV3zI1"
      }
    },
    {
      "cell_type": "markdown",
      "source": [
        "# **전처리 전 데이터 불러오기 및 기본 세팅**"
      ],
      "metadata": {
        "id": "80LUypPw6pP6"
      }
    },
    {
      "cell_type": "code",
      "source": [
        "#한글 폰트 깨짐 방지 \n",
        "!sudo apt-get install -y fonts-nanum\n",
        "!sudo fc-cache -fv\n",
        "!rm ~/.cache/matplotlib -rf"
      ],
      "metadata": {
        "colab": {
          "base_uri": "https://localhost:8080/"
        },
        "id": "p8sTmRnE0LRN",
        "outputId": "0109a6ba-8d03-4231-b9ff-e8586080f7b4"
      },
      "execution_count": null,
      "outputs": [
        {
          "output_type": "stream",
          "name": "stdout",
          "text": [
            "Reading package lists... Done\n",
            "Building dependency tree       \n",
            "Reading state information... Done\n",
            "The following package was automatically installed and is no longer required:\n",
            "  libnvidia-common-460\n",
            "Use 'sudo apt autoremove' to remove it.\n",
            "The following NEW packages will be installed:\n",
            "  fonts-nanum\n",
            "0 upgraded, 1 newly installed, 0 to remove and 5 not upgraded.\n",
            "Need to get 9,604 kB of archives.\n",
            "After this operation, 29.5 MB of additional disk space will be used.\n",
            "Get:1 http://archive.ubuntu.com/ubuntu bionic/universe amd64 fonts-nanum all 20170925-1 [9,604 kB]\n",
            "Fetched 9,604 kB in 1s (7,770 kB/s)\n",
            "debconf: unable to initialize frontend: Dialog\n",
            "debconf: (No usable dialog-like program is installed, so the dialog based frontend cannot be used. at /usr/share/perl5/Debconf/FrontEnd/Dialog.pm line 76, <> line 1.)\n",
            "debconf: falling back to frontend: Readline\n",
            "debconf: unable to initialize frontend: Readline\n",
            "debconf: (This frontend requires a controlling tty.)\n",
            "debconf: falling back to frontend: Teletype\n",
            "dpkg-preconfigure: unable to re-open stdin: \n",
            "Selecting previously unselected package fonts-nanum.\n",
            "(Reading database ... 123991 files and directories currently installed.)\n",
            "Preparing to unpack .../fonts-nanum_20170925-1_all.deb ...\n",
            "Unpacking fonts-nanum (20170925-1) ...\n",
            "Setting up fonts-nanum (20170925-1) ...\n",
            "Processing triggers for fontconfig (2.12.6-0ubuntu2) ...\n",
            "/usr/share/fonts: caching, new cache contents: 0 fonts, 1 dirs\n",
            "/usr/share/fonts/truetype: caching, new cache contents: 0 fonts, 3 dirs\n",
            "/usr/share/fonts/truetype/humor-sans: caching, new cache contents: 1 fonts, 0 dirs\n",
            "/usr/share/fonts/truetype/liberation: caching, new cache contents: 16 fonts, 0 dirs\n",
            "/usr/share/fonts/truetype/nanum: caching, new cache contents: 10 fonts, 0 dirs\n",
            "/usr/local/share/fonts: caching, new cache contents: 0 fonts, 0 dirs\n",
            "/root/.local/share/fonts: skipping, no such directory\n",
            "/root/.fonts: skipping, no such directory\n",
            "/var/cache/fontconfig: cleaning cache directory\n",
            "/root/.cache/fontconfig: not cleaning non-existent cache directory\n",
            "/root/.fontconfig: not cleaning non-existent cache directory\n",
            "fc-cache: succeeded\n"
          ]
        }
      ]
    },
    {
      "cell_type": "code",
      "source": [
        "import matplotlib.pyplot as plt\n",
        "\n",
        "plt.rc('font', family='NanumBarunGothic') "
      ],
      "metadata": {
        "id": "Wuv3N27e0Xd_"
      },
      "execution_count": null,
      "outputs": []
    },
    {
      "cell_type": "code",
      "source": [
        "#mglearn 라이브러리 사용 \n",
        "!pip install mglearn"
      ],
      "metadata": {
        "colab": {
          "base_uri": "https://localhost:8080/"
        },
        "id": "breS0oWG5Xd8",
        "outputId": "a8dd2265-0ddb-4ee8-c49e-4bfba603d882"
      },
      "execution_count": null,
      "outputs": [
        {
          "output_type": "stream",
          "name": "stdout",
          "text": [
            "Looking in indexes: https://pypi.org/simple, https://us-python.pkg.dev/colab-wheels/public/simple/\n",
            "Collecting mglearn\n",
            "  Downloading mglearn-0.1.9.tar.gz (540 kB)\n",
            "\u001b[K     |████████████████████████████████| 540 kB 5.2 MB/s \n",
            "\u001b[?25hRequirement already satisfied: numpy in /usr/local/lib/python3.7/dist-packages (from mglearn) (1.21.6)\n",
            "Requirement already satisfied: matplotlib in /usr/local/lib/python3.7/dist-packages (from mglearn) (3.2.2)\n",
            "Requirement already satisfied: scikit-learn in /usr/local/lib/python3.7/dist-packages (from mglearn) (1.0.2)\n",
            "Requirement already satisfied: pandas in /usr/local/lib/python3.7/dist-packages (from mglearn) (1.3.5)\n",
            "Requirement already satisfied: pillow in /usr/local/lib/python3.7/dist-packages (from mglearn) (7.1.2)\n",
            "Requirement already satisfied: cycler in /usr/local/lib/python3.7/dist-packages (from mglearn) (0.11.0)\n",
            "Requirement already satisfied: imageio in /usr/local/lib/python3.7/dist-packages (from mglearn) (2.9.0)\n",
            "Requirement already satisfied: joblib in /usr/local/lib/python3.7/dist-packages (from mglearn) (1.2.0)\n",
            "Requirement already satisfied: python-dateutil>=2.1 in /usr/local/lib/python3.7/dist-packages (from matplotlib->mglearn) (2.8.2)\n",
            "Requirement already satisfied: pyparsing!=2.0.4,!=2.1.2,!=2.1.6,>=2.0.1 in /usr/local/lib/python3.7/dist-packages (from matplotlib->mglearn) (3.0.9)\n",
            "Requirement already satisfied: kiwisolver>=1.0.1 in /usr/local/lib/python3.7/dist-packages (from matplotlib->mglearn) (1.4.4)\n",
            "Requirement already satisfied: typing-extensions in /usr/local/lib/python3.7/dist-packages (from kiwisolver>=1.0.1->matplotlib->mglearn) (4.1.1)\n",
            "Requirement already satisfied: six>=1.5 in /usr/local/lib/python3.7/dist-packages (from python-dateutil>=2.1->matplotlib->mglearn) (1.15.0)\n",
            "Requirement already satisfied: pytz>=2017.3 in /usr/local/lib/python3.7/dist-packages (from pandas->mglearn) (2022.6)\n",
            "Requirement already satisfied: scipy>=1.1.0 in /usr/local/lib/python3.7/dist-packages (from scikit-learn->mglearn) (1.7.3)\n",
            "Requirement already satisfied: threadpoolctl>=2.0.0 in /usr/local/lib/python3.7/dist-packages (from scikit-learn->mglearn) (3.1.0)\n",
            "Building wheels for collected packages: mglearn\n",
            "  Building wheel for mglearn (setup.py) ... \u001b[?25l\u001b[?25hdone\n",
            "  Created wheel for mglearn: filename=mglearn-0.1.9-py2.py3-none-any.whl size=582637 sha256=7fe5fe574c87247d2ab99d81e4238c338b9746932d3578af033638e802f6bc15\n",
            "  Stored in directory: /root/.cache/pip/wheels/f1/17/e1/1720d6dcd70187b6b6c3750cb3508798f2b1d57c9d3214b08b\n",
            "Successfully built mglearn\n",
            "Installing collected packages: mglearn\n",
            "Successfully installed mglearn-0.1.9\n"
          ]
        }
      ]
    },
    {
      "cell_type": "code",
      "source": [
        "!pip install --upgrade joblib==1.1.0"
      ],
      "metadata": {
        "colab": {
          "base_uri": "https://localhost:8080/"
        },
        "id": "vvo3xK8N8DhK",
        "outputId": "16a9d58a-9eec-40b1-a54e-088a037bf54b"
      },
      "execution_count": null,
      "outputs": [
        {
          "output_type": "stream",
          "name": "stdout",
          "text": [
            "Looking in indexes: https://pypi.org/simple, https://us-python.pkg.dev/colab-wheels/public/simple/\n",
            "Collecting joblib==1.1.0\n",
            "  Downloading joblib-1.1.0-py2.py3-none-any.whl (306 kB)\n",
            "\u001b[K     |████████████████████████████████| 306 kB 5.3 MB/s \n",
            "\u001b[?25hInstalling collected packages: joblib\n",
            "  Attempting uninstall: joblib\n",
            "    Found existing installation: joblib 1.2.0\n",
            "    Uninstalling joblib-1.2.0:\n",
            "      Successfully uninstalled joblib-1.2.0\n",
            "Successfully installed joblib-1.1.0\n"
          ]
        }
      ]
    },
    {
      "cell_type": "code",
      "source": [
        "import mglearn"
      ],
      "metadata": {
        "id": "ICwEgmu38bW6"
      },
      "execution_count": null,
      "outputs": []
    },
    {
      "cell_type": "code",
      "source": [
        "#데이터 불러오기 \n",
        "from google.colab import drive\n",
        "drive.mount('/content/drive')"
      ],
      "metadata": {
        "id": "IaRaB3R28cjh",
        "colab": {
          "base_uri": "https://localhost:8080/"
        },
        "outputId": "06d2bd62-30fa-4720-f84e-1b3f1b851541"
      },
      "execution_count": null,
      "outputs": [
        {
          "output_type": "stream",
          "name": "stdout",
          "text": [
            "Mounted at /content/drive\n"
          ]
        }
      ]
    },
    {
      "cell_type": "code",
      "source": [
        "%matplotlib inline\n",
        "import pandas as pd\n",
        "#Seaborn, pyplot(Matplotlib 로딩)\n",
        "import seaborn as sns         \n",
        "import matplotlib.pyplot as plt"
      ],
      "metadata": {
        "id": "kyJ73nhy8gwp"
      },
      "execution_count": null,
      "outputs": []
    },
    {
      "cell_type": "code",
      "source": [
        "from google.colab import drive\n",
        "drive.mount('/content/drive')"
      ],
      "metadata": {
        "id": "o8HCZx559n9S",
        "colab": {
          "base_uri": "https://localhost:8080/"
        },
        "outputId": "cee509c9-93da-4026-b42f-3039a3a3c8cb"
      },
      "execution_count": null,
      "outputs": [
        {
          "output_type": "stream",
          "name": "stdout",
          "text": [
            "Drive already mounted at /content/drive; to attempt to forcibly remount, call drive.mount(\"/content/drive\", force_remount=True).\n"
          ]
        }
      ]
    },
    {
      "cell_type": "code",
      "source": [
        "#건강 데이터 파일 가져오기 \n",
        "health = pd.read_csv(\"/content/drive/My Drive/Colab Notebooks/ITHOMEWORK/health_data.csv\", encoding='cp949')"
      ],
      "metadata": {
        "id": "nNu_GzZd9Gb4"
      },
      "execution_count": null,
      "outputs": []
    },
    {
      "cell_type": "code",
      "source": [
        "#데이터가 잘 옮겨졌는지 확인하기\n",
        "display(health.info())"
      ],
      "metadata": {
        "id": "isBp5PfZ2rfK",
        "colab": {
          "base_uri": "https://localhost:8080/",
          "height": 726
        },
        "outputId": "7459c910-9e62-4ec2-c211-635b2448f7fc"
      },
      "execution_count": null,
      "outputs": [
        {
          "output_type": "stream",
          "name": "stdout",
          "text": [
            "<class 'pandas.core.frame.DataFrame'>\n",
            "RangeIndex: 10000 entries, 0 to 9999\n",
            "Data columns (total 31 columns):\n",
            " #   Column       Non-Null Count  Dtype  \n",
            "---  ------       --------------  -----  \n",
            " 0   기준년도         10000 non-null  int64  \n",
            " 1   가입자일련번호      10000 non-null  int64  \n",
            " 2   시도코드         10000 non-null  int64  \n",
            " 3   성별코드         10000 non-null  object \n",
            " 4   연령대코드(5세단위)  10000 non-null  int64  \n",
            " 5   신장(5Cm단위)    10000 non-null  int64  \n",
            " 6   체중(5Kg 단위)   10000 non-null  int64  \n",
            " 7   허리둘레         10000 non-null  float64\n",
            " 8   시력(좌)        10000 non-null  float64\n",
            " 9   시력(우)        10000 non-null  float64\n",
            " 10  청력(좌)        10000 non-null  int64  \n",
            " 11  청력(우)        10000 non-null  int64  \n",
            " 12  수축기혈압        9912 non-null   float64\n",
            " 13  이완기혈압        9912 non-null   float64\n",
            " 14  식전혈당(공복혈당)   9912 non-null   float64\n",
            " 15  총콜레스테롤       4044 non-null   float64\n",
            " 16  트리글리세라이드     4044 non-null   float64\n",
            " 17  HDL콜레스테롤     4044 non-null   float64\n",
            " 18  LDL콜레스테롤     3977 non-null   float64\n",
            " 19  혈색소          9912 non-null   float64\n",
            " 20  요단백          9861 non-null   float64\n",
            " 21  혈청크레아티닌      9912 non-null   float64\n",
            " 22  (혈청지오티)AST   9912 non-null   float64\n",
            " 23  (혈청지오티)ALT   9912 non-null   float64\n",
            " 24  감마지티피        9912 non-null   float64\n",
            " 25  흡연상태         9998 non-null   object \n",
            " 26  음주여부         9999 non-null   object \n",
            " 27  구강검진수검여부     10000 non-null  int64  \n",
            " 28  치아우식증유무      3251 non-null   float64\n",
            " 29  치석           3251 non-null   float64\n",
            " 30  데이터공개일자      10000 non-null  object \n",
            "dtypes: float64(18), int64(9), object(4)\n",
            "memory usage: 2.4+ MB\n"
          ]
        },
        {
          "output_type": "display_data",
          "data": {
            "text/plain": [
              "None"
            ]
          },
          "metadata": {}
        }
      ]
    },
    {
      "cell_type": "code",
      "source": [
        "health"
      ],
      "metadata": {
        "colab": {
          "base_uri": "https://localhost:8080/",
          "height": 502
        },
        "id": "yGIYFerSjmvQ",
        "outputId": "33d292d0-0d07-4ad0-acf3-950f92cc3dd8"
      },
      "execution_count": null,
      "outputs": [
        {
          "output_type": "execute_result",
          "data": {
            "text/plain": [
              "      기준년도  가입자일련번호  시도코드 성별코드  연령대코드(5세단위)  신장(5Cm단위)  체중(5Kg 단위)   허리둘레  \\\n",
              "0     2020        1    36    M            9        165          60   72.1   \n",
              "1     2020        2    27    F           13        150          65   81.0   \n",
              "2     2020        3    11    F           12        155          55   70.0   \n",
              "3     2020        4    31    M           13        160          70   90.8   \n",
              "4     2020        5    41    F           12        155          50   75.2   \n",
              "...    ...      ...   ...  ...          ...        ...         ...    ...   \n",
              "9995  2020     9996    44    F           13        155          55   83.0   \n",
              "9996  2020     9997    43    F           11        160          55   77.5   \n",
              "9997  2020     9998    45    M           12        160          80   93.0   \n",
              "9998  2020     9999    27    F           15        155          55   78.0   \n",
              "9999  2020    10000    45    F           13        160          75  100.0   \n",
              "\n",
              "      시력(좌)  시력(우)  ...  혈청크레아티닌  (혈청지오티)AST  (혈청지오티)ALT  감마지티피    흡연상태  음주여부  \\\n",
              "0       1.2    1.5  ...      1.1        21.0        27.0   21.0      No    No   \n",
              "1       0.8    0.8  ...      0.5        18.0        15.0   15.0      No    No   \n",
              "2       0.6    0.7  ...      0.7        27.0        25.0    7.0      No    No   \n",
              "3       1.0    1.0  ...      1.2        65.0        97.0   72.0      No    No   \n",
              "4       1.5    1.2  ...      0.7        18.0        17.0   14.0      No    No   \n",
              "...     ...    ...  ...      ...         ...         ...    ...     ...   ...   \n",
              "9995    1.2    1.2  ...      0.7        20.0        21.0   20.0      No   Yes   \n",
              "9996    1.0    1.2  ...      0.7        24.0        22.0   21.0      No   Yes   \n",
              "9997    0.6    0.6  ...      1.0        22.0        27.0   35.0      No    No   \n",
              "9998    0.6    1.0  ...      1.0        26.0        24.0   21.0      No    No   \n",
              "9999    0.5    0.5  ...      0.6        32.0        24.0   30.0  NotNow   Yes   \n",
              "\n",
              "      구강검진수검여부  치아우식증유무   치석   데이터공개일자  \n",
              "0            0      NaN  NaN  12/29/21  \n",
              "1            0      NaN  NaN  12/29/21  \n",
              "2            0      NaN  NaN  12/29/21  \n",
              "3            1      0.0  0.0  12/29/21  \n",
              "4            0      NaN  NaN  12/29/21  \n",
              "...        ...      ...  ...       ...  \n",
              "9995         0      NaN  NaN  12/29/21  \n",
              "9996         1      0.0  0.0  12/29/21  \n",
              "9997         0      NaN  NaN  12/29/21  \n",
              "9998         0      NaN  NaN  12/29/21  \n",
              "9999         0      NaN  NaN  12/29/21  \n",
              "\n",
              "[10000 rows x 31 columns]"
            ],
            "text/html": [
              "\n",
              "  <div id=\"df-075d89aa-6795-4cb0-ae6f-ef637cd4028c\">\n",
              "    <div class=\"colab-df-container\">\n",
              "      <div>\n",
              "<style scoped>\n",
              "    .dataframe tbody tr th:only-of-type {\n",
              "        vertical-align: middle;\n",
              "    }\n",
              "\n",
              "    .dataframe tbody tr th {\n",
              "        vertical-align: top;\n",
              "    }\n",
              "\n",
              "    .dataframe thead th {\n",
              "        text-align: right;\n",
              "    }\n",
              "</style>\n",
              "<table border=\"1\" class=\"dataframe\">\n",
              "  <thead>\n",
              "    <tr style=\"text-align: right;\">\n",
              "      <th></th>\n",
              "      <th>기준년도</th>\n",
              "      <th>가입자일련번호</th>\n",
              "      <th>시도코드</th>\n",
              "      <th>성별코드</th>\n",
              "      <th>연령대코드(5세단위)</th>\n",
              "      <th>신장(5Cm단위)</th>\n",
              "      <th>체중(5Kg 단위)</th>\n",
              "      <th>허리둘레</th>\n",
              "      <th>시력(좌)</th>\n",
              "      <th>시력(우)</th>\n",
              "      <th>...</th>\n",
              "      <th>혈청크레아티닌</th>\n",
              "      <th>(혈청지오티)AST</th>\n",
              "      <th>(혈청지오티)ALT</th>\n",
              "      <th>감마지티피</th>\n",
              "      <th>흡연상태</th>\n",
              "      <th>음주여부</th>\n",
              "      <th>구강검진수검여부</th>\n",
              "      <th>치아우식증유무</th>\n",
              "      <th>치석</th>\n",
              "      <th>데이터공개일자</th>\n",
              "    </tr>\n",
              "  </thead>\n",
              "  <tbody>\n",
              "    <tr>\n",
              "      <th>0</th>\n",
              "      <td>2020</td>\n",
              "      <td>1</td>\n",
              "      <td>36</td>\n",
              "      <td>M</td>\n",
              "      <td>9</td>\n",
              "      <td>165</td>\n",
              "      <td>60</td>\n",
              "      <td>72.1</td>\n",
              "      <td>1.2</td>\n",
              "      <td>1.5</td>\n",
              "      <td>...</td>\n",
              "      <td>1.1</td>\n",
              "      <td>21.0</td>\n",
              "      <td>27.0</td>\n",
              "      <td>21.0</td>\n",
              "      <td>No</td>\n",
              "      <td>No</td>\n",
              "      <td>0</td>\n",
              "      <td>NaN</td>\n",
              "      <td>NaN</td>\n",
              "      <td>12/29/21</td>\n",
              "    </tr>\n",
              "    <tr>\n",
              "      <th>1</th>\n",
              "      <td>2020</td>\n",
              "      <td>2</td>\n",
              "      <td>27</td>\n",
              "      <td>F</td>\n",
              "      <td>13</td>\n",
              "      <td>150</td>\n",
              "      <td>65</td>\n",
              "      <td>81.0</td>\n",
              "      <td>0.8</td>\n",
              "      <td>0.8</td>\n",
              "      <td>...</td>\n",
              "      <td>0.5</td>\n",
              "      <td>18.0</td>\n",
              "      <td>15.0</td>\n",
              "      <td>15.0</td>\n",
              "      <td>No</td>\n",
              "      <td>No</td>\n",
              "      <td>0</td>\n",
              "      <td>NaN</td>\n",
              "      <td>NaN</td>\n",
              "      <td>12/29/21</td>\n",
              "    </tr>\n",
              "    <tr>\n",
              "      <th>2</th>\n",
              "      <td>2020</td>\n",
              "      <td>3</td>\n",
              "      <td>11</td>\n",
              "      <td>F</td>\n",
              "      <td>12</td>\n",
              "      <td>155</td>\n",
              "      <td>55</td>\n",
              "      <td>70.0</td>\n",
              "      <td>0.6</td>\n",
              "      <td>0.7</td>\n",
              "      <td>...</td>\n",
              "      <td>0.7</td>\n",
              "      <td>27.0</td>\n",
              "      <td>25.0</td>\n",
              "      <td>7.0</td>\n",
              "      <td>No</td>\n",
              "      <td>No</td>\n",
              "      <td>0</td>\n",
              "      <td>NaN</td>\n",
              "      <td>NaN</td>\n",
              "      <td>12/29/21</td>\n",
              "    </tr>\n",
              "    <tr>\n",
              "      <th>3</th>\n",
              "      <td>2020</td>\n",
              "      <td>4</td>\n",
              "      <td>31</td>\n",
              "      <td>M</td>\n",
              "      <td>13</td>\n",
              "      <td>160</td>\n",
              "      <td>70</td>\n",
              "      <td>90.8</td>\n",
              "      <td>1.0</td>\n",
              "      <td>1.0</td>\n",
              "      <td>...</td>\n",
              "      <td>1.2</td>\n",
              "      <td>65.0</td>\n",
              "      <td>97.0</td>\n",
              "      <td>72.0</td>\n",
              "      <td>No</td>\n",
              "      <td>No</td>\n",
              "      <td>1</td>\n",
              "      <td>0.0</td>\n",
              "      <td>0.0</td>\n",
              "      <td>12/29/21</td>\n",
              "    </tr>\n",
              "    <tr>\n",
              "      <th>4</th>\n",
              "      <td>2020</td>\n",
              "      <td>5</td>\n",
              "      <td>41</td>\n",
              "      <td>F</td>\n",
              "      <td>12</td>\n",
              "      <td>155</td>\n",
              "      <td>50</td>\n",
              "      <td>75.2</td>\n",
              "      <td>1.5</td>\n",
              "      <td>1.2</td>\n",
              "      <td>...</td>\n",
              "      <td>0.7</td>\n",
              "      <td>18.0</td>\n",
              "      <td>17.0</td>\n",
              "      <td>14.0</td>\n",
              "      <td>No</td>\n",
              "      <td>No</td>\n",
              "      <td>0</td>\n",
              "      <td>NaN</td>\n",
              "      <td>NaN</td>\n",
              "      <td>12/29/21</td>\n",
              "    </tr>\n",
              "    <tr>\n",
              "      <th>...</th>\n",
              "      <td>...</td>\n",
              "      <td>...</td>\n",
              "      <td>...</td>\n",
              "      <td>...</td>\n",
              "      <td>...</td>\n",
              "      <td>...</td>\n",
              "      <td>...</td>\n",
              "      <td>...</td>\n",
              "      <td>...</td>\n",
              "      <td>...</td>\n",
              "      <td>...</td>\n",
              "      <td>...</td>\n",
              "      <td>...</td>\n",
              "      <td>...</td>\n",
              "      <td>...</td>\n",
              "      <td>...</td>\n",
              "      <td>...</td>\n",
              "      <td>...</td>\n",
              "      <td>...</td>\n",
              "      <td>...</td>\n",
              "      <td>...</td>\n",
              "    </tr>\n",
              "    <tr>\n",
              "      <th>9995</th>\n",
              "      <td>2020</td>\n",
              "      <td>9996</td>\n",
              "      <td>44</td>\n",
              "      <td>F</td>\n",
              "      <td>13</td>\n",
              "      <td>155</td>\n",
              "      <td>55</td>\n",
              "      <td>83.0</td>\n",
              "      <td>1.2</td>\n",
              "      <td>1.2</td>\n",
              "      <td>...</td>\n",
              "      <td>0.7</td>\n",
              "      <td>20.0</td>\n",
              "      <td>21.0</td>\n",
              "      <td>20.0</td>\n",
              "      <td>No</td>\n",
              "      <td>Yes</td>\n",
              "      <td>0</td>\n",
              "      <td>NaN</td>\n",
              "      <td>NaN</td>\n",
              "      <td>12/29/21</td>\n",
              "    </tr>\n",
              "    <tr>\n",
              "      <th>9996</th>\n",
              "      <td>2020</td>\n",
              "      <td>9997</td>\n",
              "      <td>43</td>\n",
              "      <td>F</td>\n",
              "      <td>11</td>\n",
              "      <td>160</td>\n",
              "      <td>55</td>\n",
              "      <td>77.5</td>\n",
              "      <td>1.0</td>\n",
              "      <td>1.2</td>\n",
              "      <td>...</td>\n",
              "      <td>0.7</td>\n",
              "      <td>24.0</td>\n",
              "      <td>22.0</td>\n",
              "      <td>21.0</td>\n",
              "      <td>No</td>\n",
              "      <td>Yes</td>\n",
              "      <td>1</td>\n",
              "      <td>0.0</td>\n",
              "      <td>0.0</td>\n",
              "      <td>12/29/21</td>\n",
              "    </tr>\n",
              "    <tr>\n",
              "      <th>9997</th>\n",
              "      <td>2020</td>\n",
              "      <td>9998</td>\n",
              "      <td>45</td>\n",
              "      <td>M</td>\n",
              "      <td>12</td>\n",
              "      <td>160</td>\n",
              "      <td>80</td>\n",
              "      <td>93.0</td>\n",
              "      <td>0.6</td>\n",
              "      <td>0.6</td>\n",
              "      <td>...</td>\n",
              "      <td>1.0</td>\n",
              "      <td>22.0</td>\n",
              "      <td>27.0</td>\n",
              "      <td>35.0</td>\n",
              "      <td>No</td>\n",
              "      <td>No</td>\n",
              "      <td>0</td>\n",
              "      <td>NaN</td>\n",
              "      <td>NaN</td>\n",
              "      <td>12/29/21</td>\n",
              "    </tr>\n",
              "    <tr>\n",
              "      <th>9998</th>\n",
              "      <td>2020</td>\n",
              "      <td>9999</td>\n",
              "      <td>27</td>\n",
              "      <td>F</td>\n",
              "      <td>15</td>\n",
              "      <td>155</td>\n",
              "      <td>55</td>\n",
              "      <td>78.0</td>\n",
              "      <td>0.6</td>\n",
              "      <td>1.0</td>\n",
              "      <td>...</td>\n",
              "      <td>1.0</td>\n",
              "      <td>26.0</td>\n",
              "      <td>24.0</td>\n",
              "      <td>21.0</td>\n",
              "      <td>No</td>\n",
              "      <td>No</td>\n",
              "      <td>0</td>\n",
              "      <td>NaN</td>\n",
              "      <td>NaN</td>\n",
              "      <td>12/29/21</td>\n",
              "    </tr>\n",
              "    <tr>\n",
              "      <th>9999</th>\n",
              "      <td>2020</td>\n",
              "      <td>10000</td>\n",
              "      <td>45</td>\n",
              "      <td>F</td>\n",
              "      <td>13</td>\n",
              "      <td>160</td>\n",
              "      <td>75</td>\n",
              "      <td>100.0</td>\n",
              "      <td>0.5</td>\n",
              "      <td>0.5</td>\n",
              "      <td>...</td>\n",
              "      <td>0.6</td>\n",
              "      <td>32.0</td>\n",
              "      <td>24.0</td>\n",
              "      <td>30.0</td>\n",
              "      <td>NotNow</td>\n",
              "      <td>Yes</td>\n",
              "      <td>0</td>\n",
              "      <td>NaN</td>\n",
              "      <td>NaN</td>\n",
              "      <td>12/29/21</td>\n",
              "    </tr>\n",
              "  </tbody>\n",
              "</table>\n",
              "<p>10000 rows × 31 columns</p>\n",
              "</div>\n",
              "      <button class=\"colab-df-convert\" onclick=\"convertToInteractive('df-075d89aa-6795-4cb0-ae6f-ef637cd4028c')\"\n",
              "              title=\"Convert this dataframe to an interactive table.\"\n",
              "              style=\"display:none;\">\n",
              "        \n",
              "  <svg xmlns=\"http://www.w3.org/2000/svg\" height=\"24px\"viewBox=\"0 0 24 24\"\n",
              "       width=\"24px\">\n",
              "    <path d=\"M0 0h24v24H0V0z\" fill=\"none\"/>\n",
              "    <path d=\"M18.56 5.44l.94 2.06.94-2.06 2.06-.94-2.06-.94-.94-2.06-.94 2.06-2.06.94zm-11 1L8.5 8.5l.94-2.06 2.06-.94-2.06-.94L8.5 2.5l-.94 2.06-2.06.94zm10 10l.94 2.06.94-2.06 2.06-.94-2.06-.94-.94-2.06-.94 2.06-2.06.94z\"/><path d=\"M17.41 7.96l-1.37-1.37c-.4-.4-.92-.59-1.43-.59-.52 0-1.04.2-1.43.59L10.3 9.45l-7.72 7.72c-.78.78-.78 2.05 0 2.83L4 21.41c.39.39.9.59 1.41.59.51 0 1.02-.2 1.41-.59l7.78-7.78 2.81-2.81c.8-.78.8-2.07 0-2.86zM5.41 20L4 18.59l7.72-7.72 1.47 1.35L5.41 20z\"/>\n",
              "  </svg>\n",
              "      </button>\n",
              "      \n",
              "  <style>\n",
              "    .colab-df-container {\n",
              "      display:flex;\n",
              "      flex-wrap:wrap;\n",
              "      gap: 12px;\n",
              "    }\n",
              "\n",
              "    .colab-df-convert {\n",
              "      background-color: #E8F0FE;\n",
              "      border: none;\n",
              "      border-radius: 50%;\n",
              "      cursor: pointer;\n",
              "      display: none;\n",
              "      fill: #1967D2;\n",
              "      height: 32px;\n",
              "      padding: 0 0 0 0;\n",
              "      width: 32px;\n",
              "    }\n",
              "\n",
              "    .colab-df-convert:hover {\n",
              "      background-color: #E2EBFA;\n",
              "      box-shadow: 0px 1px 2px rgba(60, 64, 67, 0.3), 0px 1px 3px 1px rgba(60, 64, 67, 0.15);\n",
              "      fill: #174EA6;\n",
              "    }\n",
              "\n",
              "    [theme=dark] .colab-df-convert {\n",
              "      background-color: #3B4455;\n",
              "      fill: #D2E3FC;\n",
              "    }\n",
              "\n",
              "    [theme=dark] .colab-df-convert:hover {\n",
              "      background-color: #434B5C;\n",
              "      box-shadow: 0px 1px 3px 1px rgba(0, 0, 0, 0.15);\n",
              "      filter: drop-shadow(0px 1px 2px rgba(0, 0, 0, 0.3));\n",
              "      fill: #FFFFFF;\n",
              "    }\n",
              "  </style>\n",
              "\n",
              "      <script>\n",
              "        const buttonEl =\n",
              "          document.querySelector('#df-075d89aa-6795-4cb0-ae6f-ef637cd4028c button.colab-df-convert');\n",
              "        buttonEl.style.display =\n",
              "          google.colab.kernel.accessAllowed ? 'block' : 'none';\n",
              "\n",
              "        async function convertToInteractive(key) {\n",
              "          const element = document.querySelector('#df-075d89aa-6795-4cb0-ae6f-ef637cd4028c');\n",
              "          const dataTable =\n",
              "            await google.colab.kernel.invokeFunction('convertToInteractive',\n",
              "                                                     [key], {});\n",
              "          if (!dataTable) return;\n",
              "\n",
              "          const docLinkHtml = 'Like what you see? Visit the ' +\n",
              "            '<a target=\"_blank\" href=https://colab.research.google.com/notebooks/data_table.ipynb>data table notebook</a>'\n",
              "            + ' to learn more about interactive tables.';\n",
              "          element.innerHTML = '';\n",
              "          dataTable['output_type'] = 'display_data';\n",
              "          await google.colab.output.renderOutput(dataTable, element);\n",
              "          const docLink = document.createElement('div');\n",
              "          docLink.innerHTML = docLinkHtml;\n",
              "          element.appendChild(docLink);\n",
              "        }\n",
              "      </script>\n",
              "    </div>\n",
              "  </div>\n",
              "  "
            ]
          },
          "metadata": {},
          "execution_count": 10
        }
      ]
    },
    {
      "cell_type": "code",
      "source": [
        "#건강 데이터 변수 타입 확인 \n",
        "health.dtypes"
      ],
      "metadata": {
        "colab": {
          "base_uri": "https://localhost:8080/"
        },
        "id": "OaYSF8FFoq9l",
        "outputId": "c741170e-2211-4e86-d4da-bb97c37dea5d"
      },
      "execution_count": null,
      "outputs": [
        {
          "output_type": "execute_result",
          "data": {
            "text/plain": [
              "기준년도             int64\n",
              "가입자일련번호          int64\n",
              "시도코드             int64\n",
              "성별코드            object\n",
              "연령대코드(5세단위)      int64\n",
              "신장(5Cm단위)        int64\n",
              "체중(5Kg 단위)       int64\n",
              "허리둘레           float64\n",
              "시력(좌)          float64\n",
              "시력(우)          float64\n",
              "청력(좌)            int64\n",
              "청력(우)            int64\n",
              "수축기혈압          float64\n",
              "이완기혈압          float64\n",
              "식전혈당(공복혈당)     float64\n",
              "총콜레스테롤         float64\n",
              "트리글리세라이드       float64\n",
              "HDL콜레스테롤       float64\n",
              "LDL콜레스테롤       float64\n",
              "혈색소            float64\n",
              "요단백            float64\n",
              "혈청크레아티닌        float64\n",
              "(혈청지오티)AST     float64\n",
              "(혈청지오티)ALT     float64\n",
              "감마지티피          float64\n",
              "흡연상태            object\n",
              "음주여부            object\n",
              "구강검진수검여부         int64\n",
              "치아우식증유무        float64\n",
              "치석             float64\n",
              "데이터공개일자         object\n",
              "dtype: object"
            ]
          },
          "metadata": {},
          "execution_count": 11
        }
      ]
    },
    {
      "cell_type": "code",
      "source": [
        "#문자형 변수를 수치형 변수로 변환\n",
        "health['성별코드'].replace(\"M\", 0, inplace=True)\n",
        "health['성별코드'].replace(\"F\", 1, inplace=True)\n",
        "\n",
        "health['흡연상태'].replace(\"Yes\", 1, inplace=True)\n",
        "health['흡연상태'].replace(\"No\", 0, inplace=True)\n",
        "health['흡연상태'].replace(\"NotNow\", 2, inplace=True)\n",
        "\n",
        "\n",
        "health['음주여부'].replace(\"Yes\", 1, inplace=True)\n",
        "health['음주여부'].replace(\"No\", 0, inplace=True)\n",
        "\n",
        "health.fillna(0, inplace=True)\n",
        "\n",
        "health['데이터공개일자'].replace(\"12/29/21\", 0, inplace=True)\n",
        "\n",
        "health"
      ],
      "metadata": {
        "colab": {
          "base_uri": "https://localhost:8080/",
          "height": 502
        },
        "id": "17-IYERMwKUu",
        "outputId": "5d46f184-fbaf-4136-9e70-671b6c12d2a7"
      },
      "execution_count": null,
      "outputs": [
        {
          "output_type": "execute_result",
          "data": {
            "text/plain": [
              "      기준년도  가입자일련번호  시도코드  성별코드  연령대코드(5세단위)  신장(5Cm단위)  체중(5Kg 단위)   허리둘레  \\\n",
              "0     2020        1    36     0            9        165          60   72.1   \n",
              "1     2020        2    27     1           13        150          65   81.0   \n",
              "2     2020        3    11     1           12        155          55   70.0   \n",
              "3     2020        4    31     0           13        160          70   90.8   \n",
              "4     2020        5    41     1           12        155          50   75.2   \n",
              "...    ...      ...   ...   ...          ...        ...         ...    ...   \n",
              "9995  2020     9996    44     1           13        155          55   83.0   \n",
              "9996  2020     9997    43     1           11        160          55   77.5   \n",
              "9997  2020     9998    45     0           12        160          80   93.0   \n",
              "9998  2020     9999    27     1           15        155          55   78.0   \n",
              "9999  2020    10000    45     1           13        160          75  100.0   \n",
              "\n",
              "      시력(좌)  시력(우)  ...  혈청크레아티닌  (혈청지오티)AST  (혈청지오티)ALT  감마지티피  흡연상태  음주여부  \\\n",
              "0       1.2    1.5  ...      1.1        21.0        27.0   21.0   0.0   0.0   \n",
              "1       0.8    0.8  ...      0.5        18.0        15.0   15.0   0.0   0.0   \n",
              "2       0.6    0.7  ...      0.7        27.0        25.0    7.0   0.0   0.0   \n",
              "3       1.0    1.0  ...      1.2        65.0        97.0   72.0   0.0   0.0   \n",
              "4       1.5    1.2  ...      0.7        18.0        17.0   14.0   0.0   0.0   \n",
              "...     ...    ...  ...      ...         ...         ...    ...   ...   ...   \n",
              "9995    1.2    1.2  ...      0.7        20.0        21.0   20.0   0.0   1.0   \n",
              "9996    1.0    1.2  ...      0.7        24.0        22.0   21.0   0.0   1.0   \n",
              "9997    0.6    0.6  ...      1.0        22.0        27.0   35.0   0.0   0.0   \n",
              "9998    0.6    1.0  ...      1.0        26.0        24.0   21.0   0.0   0.0   \n",
              "9999    0.5    0.5  ...      0.6        32.0        24.0   30.0   2.0   1.0   \n",
              "\n",
              "      구강검진수검여부  치아우식증유무   치석  데이터공개일자  \n",
              "0            0      0.0  0.0        0  \n",
              "1            0      0.0  0.0        0  \n",
              "2            0      0.0  0.0        0  \n",
              "3            1      0.0  0.0        0  \n",
              "4            0      0.0  0.0        0  \n",
              "...        ...      ...  ...      ...  \n",
              "9995         0      0.0  0.0        0  \n",
              "9996         1      0.0  0.0        0  \n",
              "9997         0      0.0  0.0        0  \n",
              "9998         0      0.0  0.0        0  \n",
              "9999         0      0.0  0.0        0  \n",
              "\n",
              "[10000 rows x 31 columns]"
            ],
            "text/html": [
              "\n",
              "  <div id=\"df-e5a1f9d4-b667-429e-bfa8-526ea6afdaa4\">\n",
              "    <div class=\"colab-df-container\">\n",
              "      <div>\n",
              "<style scoped>\n",
              "    .dataframe tbody tr th:only-of-type {\n",
              "        vertical-align: middle;\n",
              "    }\n",
              "\n",
              "    .dataframe tbody tr th {\n",
              "        vertical-align: top;\n",
              "    }\n",
              "\n",
              "    .dataframe thead th {\n",
              "        text-align: right;\n",
              "    }\n",
              "</style>\n",
              "<table border=\"1\" class=\"dataframe\">\n",
              "  <thead>\n",
              "    <tr style=\"text-align: right;\">\n",
              "      <th></th>\n",
              "      <th>기준년도</th>\n",
              "      <th>가입자일련번호</th>\n",
              "      <th>시도코드</th>\n",
              "      <th>성별코드</th>\n",
              "      <th>연령대코드(5세단위)</th>\n",
              "      <th>신장(5Cm단위)</th>\n",
              "      <th>체중(5Kg 단위)</th>\n",
              "      <th>허리둘레</th>\n",
              "      <th>시력(좌)</th>\n",
              "      <th>시력(우)</th>\n",
              "      <th>...</th>\n",
              "      <th>혈청크레아티닌</th>\n",
              "      <th>(혈청지오티)AST</th>\n",
              "      <th>(혈청지오티)ALT</th>\n",
              "      <th>감마지티피</th>\n",
              "      <th>흡연상태</th>\n",
              "      <th>음주여부</th>\n",
              "      <th>구강검진수검여부</th>\n",
              "      <th>치아우식증유무</th>\n",
              "      <th>치석</th>\n",
              "      <th>데이터공개일자</th>\n",
              "    </tr>\n",
              "  </thead>\n",
              "  <tbody>\n",
              "    <tr>\n",
              "      <th>0</th>\n",
              "      <td>2020</td>\n",
              "      <td>1</td>\n",
              "      <td>36</td>\n",
              "      <td>0</td>\n",
              "      <td>9</td>\n",
              "      <td>165</td>\n",
              "      <td>60</td>\n",
              "      <td>72.1</td>\n",
              "      <td>1.2</td>\n",
              "      <td>1.5</td>\n",
              "      <td>...</td>\n",
              "      <td>1.1</td>\n",
              "      <td>21.0</td>\n",
              "      <td>27.0</td>\n",
              "      <td>21.0</td>\n",
              "      <td>0.0</td>\n",
              "      <td>0.0</td>\n",
              "      <td>0</td>\n",
              "      <td>0.0</td>\n",
              "      <td>0.0</td>\n",
              "      <td>0</td>\n",
              "    </tr>\n",
              "    <tr>\n",
              "      <th>1</th>\n",
              "      <td>2020</td>\n",
              "      <td>2</td>\n",
              "      <td>27</td>\n",
              "      <td>1</td>\n",
              "      <td>13</td>\n",
              "      <td>150</td>\n",
              "      <td>65</td>\n",
              "      <td>81.0</td>\n",
              "      <td>0.8</td>\n",
              "      <td>0.8</td>\n",
              "      <td>...</td>\n",
              "      <td>0.5</td>\n",
              "      <td>18.0</td>\n",
              "      <td>15.0</td>\n",
              "      <td>15.0</td>\n",
              "      <td>0.0</td>\n",
              "      <td>0.0</td>\n",
              "      <td>0</td>\n",
              "      <td>0.0</td>\n",
              "      <td>0.0</td>\n",
              "      <td>0</td>\n",
              "    </tr>\n",
              "    <tr>\n",
              "      <th>2</th>\n",
              "      <td>2020</td>\n",
              "      <td>3</td>\n",
              "      <td>11</td>\n",
              "      <td>1</td>\n",
              "      <td>12</td>\n",
              "      <td>155</td>\n",
              "      <td>55</td>\n",
              "      <td>70.0</td>\n",
              "      <td>0.6</td>\n",
              "      <td>0.7</td>\n",
              "      <td>...</td>\n",
              "      <td>0.7</td>\n",
              "      <td>27.0</td>\n",
              "      <td>25.0</td>\n",
              "      <td>7.0</td>\n",
              "      <td>0.0</td>\n",
              "      <td>0.0</td>\n",
              "      <td>0</td>\n",
              "      <td>0.0</td>\n",
              "      <td>0.0</td>\n",
              "      <td>0</td>\n",
              "    </tr>\n",
              "    <tr>\n",
              "      <th>3</th>\n",
              "      <td>2020</td>\n",
              "      <td>4</td>\n",
              "      <td>31</td>\n",
              "      <td>0</td>\n",
              "      <td>13</td>\n",
              "      <td>160</td>\n",
              "      <td>70</td>\n",
              "      <td>90.8</td>\n",
              "      <td>1.0</td>\n",
              "      <td>1.0</td>\n",
              "      <td>...</td>\n",
              "      <td>1.2</td>\n",
              "      <td>65.0</td>\n",
              "      <td>97.0</td>\n",
              "      <td>72.0</td>\n",
              "      <td>0.0</td>\n",
              "      <td>0.0</td>\n",
              "      <td>1</td>\n",
              "      <td>0.0</td>\n",
              "      <td>0.0</td>\n",
              "      <td>0</td>\n",
              "    </tr>\n",
              "    <tr>\n",
              "      <th>4</th>\n",
              "      <td>2020</td>\n",
              "      <td>5</td>\n",
              "      <td>41</td>\n",
              "      <td>1</td>\n",
              "      <td>12</td>\n",
              "      <td>155</td>\n",
              "      <td>50</td>\n",
              "      <td>75.2</td>\n",
              "      <td>1.5</td>\n",
              "      <td>1.2</td>\n",
              "      <td>...</td>\n",
              "      <td>0.7</td>\n",
              "      <td>18.0</td>\n",
              "      <td>17.0</td>\n",
              "      <td>14.0</td>\n",
              "      <td>0.0</td>\n",
              "      <td>0.0</td>\n",
              "      <td>0</td>\n",
              "      <td>0.0</td>\n",
              "      <td>0.0</td>\n",
              "      <td>0</td>\n",
              "    </tr>\n",
              "    <tr>\n",
              "      <th>...</th>\n",
              "      <td>...</td>\n",
              "      <td>...</td>\n",
              "      <td>...</td>\n",
              "      <td>...</td>\n",
              "      <td>...</td>\n",
              "      <td>...</td>\n",
              "      <td>...</td>\n",
              "      <td>...</td>\n",
              "      <td>...</td>\n",
              "      <td>...</td>\n",
              "      <td>...</td>\n",
              "      <td>...</td>\n",
              "      <td>...</td>\n",
              "      <td>...</td>\n",
              "      <td>...</td>\n",
              "      <td>...</td>\n",
              "      <td>...</td>\n",
              "      <td>...</td>\n",
              "      <td>...</td>\n",
              "      <td>...</td>\n",
              "      <td>...</td>\n",
              "    </tr>\n",
              "    <tr>\n",
              "      <th>9995</th>\n",
              "      <td>2020</td>\n",
              "      <td>9996</td>\n",
              "      <td>44</td>\n",
              "      <td>1</td>\n",
              "      <td>13</td>\n",
              "      <td>155</td>\n",
              "      <td>55</td>\n",
              "      <td>83.0</td>\n",
              "      <td>1.2</td>\n",
              "      <td>1.2</td>\n",
              "      <td>...</td>\n",
              "      <td>0.7</td>\n",
              "      <td>20.0</td>\n",
              "      <td>21.0</td>\n",
              "      <td>20.0</td>\n",
              "      <td>0.0</td>\n",
              "      <td>1.0</td>\n",
              "      <td>0</td>\n",
              "      <td>0.0</td>\n",
              "      <td>0.0</td>\n",
              "      <td>0</td>\n",
              "    </tr>\n",
              "    <tr>\n",
              "      <th>9996</th>\n",
              "      <td>2020</td>\n",
              "      <td>9997</td>\n",
              "      <td>43</td>\n",
              "      <td>1</td>\n",
              "      <td>11</td>\n",
              "      <td>160</td>\n",
              "      <td>55</td>\n",
              "      <td>77.5</td>\n",
              "      <td>1.0</td>\n",
              "      <td>1.2</td>\n",
              "      <td>...</td>\n",
              "      <td>0.7</td>\n",
              "      <td>24.0</td>\n",
              "      <td>22.0</td>\n",
              "      <td>21.0</td>\n",
              "      <td>0.0</td>\n",
              "      <td>1.0</td>\n",
              "      <td>1</td>\n",
              "      <td>0.0</td>\n",
              "      <td>0.0</td>\n",
              "      <td>0</td>\n",
              "    </tr>\n",
              "    <tr>\n",
              "      <th>9997</th>\n",
              "      <td>2020</td>\n",
              "      <td>9998</td>\n",
              "      <td>45</td>\n",
              "      <td>0</td>\n",
              "      <td>12</td>\n",
              "      <td>160</td>\n",
              "      <td>80</td>\n",
              "      <td>93.0</td>\n",
              "      <td>0.6</td>\n",
              "      <td>0.6</td>\n",
              "      <td>...</td>\n",
              "      <td>1.0</td>\n",
              "      <td>22.0</td>\n",
              "      <td>27.0</td>\n",
              "      <td>35.0</td>\n",
              "      <td>0.0</td>\n",
              "      <td>0.0</td>\n",
              "      <td>0</td>\n",
              "      <td>0.0</td>\n",
              "      <td>0.0</td>\n",
              "      <td>0</td>\n",
              "    </tr>\n",
              "    <tr>\n",
              "      <th>9998</th>\n",
              "      <td>2020</td>\n",
              "      <td>9999</td>\n",
              "      <td>27</td>\n",
              "      <td>1</td>\n",
              "      <td>15</td>\n",
              "      <td>155</td>\n",
              "      <td>55</td>\n",
              "      <td>78.0</td>\n",
              "      <td>0.6</td>\n",
              "      <td>1.0</td>\n",
              "      <td>...</td>\n",
              "      <td>1.0</td>\n",
              "      <td>26.0</td>\n",
              "      <td>24.0</td>\n",
              "      <td>21.0</td>\n",
              "      <td>0.0</td>\n",
              "      <td>0.0</td>\n",
              "      <td>0</td>\n",
              "      <td>0.0</td>\n",
              "      <td>0.0</td>\n",
              "      <td>0</td>\n",
              "    </tr>\n",
              "    <tr>\n",
              "      <th>9999</th>\n",
              "      <td>2020</td>\n",
              "      <td>10000</td>\n",
              "      <td>45</td>\n",
              "      <td>1</td>\n",
              "      <td>13</td>\n",
              "      <td>160</td>\n",
              "      <td>75</td>\n",
              "      <td>100.0</td>\n",
              "      <td>0.5</td>\n",
              "      <td>0.5</td>\n",
              "      <td>...</td>\n",
              "      <td>0.6</td>\n",
              "      <td>32.0</td>\n",
              "      <td>24.0</td>\n",
              "      <td>30.0</td>\n",
              "      <td>2.0</td>\n",
              "      <td>1.0</td>\n",
              "      <td>0</td>\n",
              "      <td>0.0</td>\n",
              "      <td>0.0</td>\n",
              "      <td>0</td>\n",
              "    </tr>\n",
              "  </tbody>\n",
              "</table>\n",
              "<p>10000 rows × 31 columns</p>\n",
              "</div>\n",
              "      <button class=\"colab-df-convert\" onclick=\"convertToInteractive('df-e5a1f9d4-b667-429e-bfa8-526ea6afdaa4')\"\n",
              "              title=\"Convert this dataframe to an interactive table.\"\n",
              "              style=\"display:none;\">\n",
              "        \n",
              "  <svg xmlns=\"http://www.w3.org/2000/svg\" height=\"24px\"viewBox=\"0 0 24 24\"\n",
              "       width=\"24px\">\n",
              "    <path d=\"M0 0h24v24H0V0z\" fill=\"none\"/>\n",
              "    <path d=\"M18.56 5.44l.94 2.06.94-2.06 2.06-.94-2.06-.94-.94-2.06-.94 2.06-2.06.94zm-11 1L8.5 8.5l.94-2.06 2.06-.94-2.06-.94L8.5 2.5l-.94 2.06-2.06.94zm10 10l.94 2.06.94-2.06 2.06-.94-2.06-.94-.94-2.06-.94 2.06-2.06.94z\"/><path d=\"M17.41 7.96l-1.37-1.37c-.4-.4-.92-.59-1.43-.59-.52 0-1.04.2-1.43.59L10.3 9.45l-7.72 7.72c-.78.78-.78 2.05 0 2.83L4 21.41c.39.39.9.59 1.41.59.51 0 1.02-.2 1.41-.59l7.78-7.78 2.81-2.81c.8-.78.8-2.07 0-2.86zM5.41 20L4 18.59l7.72-7.72 1.47 1.35L5.41 20z\"/>\n",
              "  </svg>\n",
              "      </button>\n",
              "      \n",
              "  <style>\n",
              "    .colab-df-container {\n",
              "      display:flex;\n",
              "      flex-wrap:wrap;\n",
              "      gap: 12px;\n",
              "    }\n",
              "\n",
              "    .colab-df-convert {\n",
              "      background-color: #E8F0FE;\n",
              "      border: none;\n",
              "      border-radius: 50%;\n",
              "      cursor: pointer;\n",
              "      display: none;\n",
              "      fill: #1967D2;\n",
              "      height: 32px;\n",
              "      padding: 0 0 0 0;\n",
              "      width: 32px;\n",
              "    }\n",
              "\n",
              "    .colab-df-convert:hover {\n",
              "      background-color: #E2EBFA;\n",
              "      box-shadow: 0px 1px 2px rgba(60, 64, 67, 0.3), 0px 1px 3px 1px rgba(60, 64, 67, 0.15);\n",
              "      fill: #174EA6;\n",
              "    }\n",
              "\n",
              "    [theme=dark] .colab-df-convert {\n",
              "      background-color: #3B4455;\n",
              "      fill: #D2E3FC;\n",
              "    }\n",
              "\n",
              "    [theme=dark] .colab-df-convert:hover {\n",
              "      background-color: #434B5C;\n",
              "      box-shadow: 0px 1px 3px 1px rgba(0, 0, 0, 0.15);\n",
              "      filter: drop-shadow(0px 1px 2px rgba(0, 0, 0, 0.3));\n",
              "      fill: #FFFFFF;\n",
              "    }\n",
              "  </style>\n",
              "\n",
              "      <script>\n",
              "        const buttonEl =\n",
              "          document.querySelector('#df-e5a1f9d4-b667-429e-bfa8-526ea6afdaa4 button.colab-df-convert');\n",
              "        buttonEl.style.display =\n",
              "          google.colab.kernel.accessAllowed ? 'block' : 'none';\n",
              "\n",
              "        async function convertToInteractive(key) {\n",
              "          const element = document.querySelector('#df-e5a1f9d4-b667-429e-bfa8-526ea6afdaa4');\n",
              "          const dataTable =\n",
              "            await google.colab.kernel.invokeFunction('convertToInteractive',\n",
              "                                                     [key], {});\n",
              "          if (!dataTable) return;\n",
              "\n",
              "          const docLinkHtml = 'Like what you see? Visit the ' +\n",
              "            '<a target=\"_blank\" href=https://colab.research.google.com/notebooks/data_table.ipynb>data table notebook</a>'\n",
              "            + ' to learn more about interactive tables.';\n",
              "          element.innerHTML = '';\n",
              "          dataTable['output_type'] = 'display_data';\n",
              "          await google.colab.output.renderOutput(dataTable, element);\n",
              "          const docLink = document.createElement('div');\n",
              "          docLink.innerHTML = docLinkHtml;\n",
              "          element.appendChild(docLink);\n",
              "        }\n",
              "      </script>\n",
              "    </div>\n",
              "  </div>\n",
              "  "
            ]
          },
          "metadata": {},
          "execution_count": 12
        }
      ]
    },
    {
      "cell_type": "markdown",
      "source": [
        "# 분류 모델 만들기 "
      ],
      "metadata": {
        "id": "U9SrRiYp7tZh"
      }
    },
    {
      "cell_type": "markdown",
      "source": [
        "# 의사결정나무"
      ],
      "metadata": {
        "id": "OtjOGM1CIyy2"
      }
    },
    {
      "cell_type": "code",
      "source": [
        "from sklearn.tree import DecisionTreeClassifier\n",
        "from sklearn.model_selection import train_test_split"
      ],
      "metadata": {
        "id": "NvHGArQ8Kfvi"
      },
      "execution_count": null,
      "outputs": []
    },
    {
      "cell_type": "code",
      "source": [
        "#종속 변수 번호 확인\n",
        "display(health.info())"
      ],
      "metadata": {
        "colab": {
          "base_uri": "https://localhost:8080/",
          "height": 726
        },
        "id": "XAguYXK6zFV0",
        "outputId": "445c09de-af75-4cab-b067-040314e8df10"
      },
      "execution_count": null,
      "outputs": [
        {
          "output_type": "stream",
          "name": "stdout",
          "text": [
            "<class 'pandas.core.frame.DataFrame'>\n",
            "RangeIndex: 10000 entries, 0 to 9999\n",
            "Data columns (total 31 columns):\n",
            " #   Column       Non-Null Count  Dtype  \n",
            "---  ------       --------------  -----  \n",
            " 0   기준년도         10000 non-null  int64  \n",
            " 1   가입자일련번호      10000 non-null  int64  \n",
            " 2   시도코드         10000 non-null  int64  \n",
            " 3   성별코드         10000 non-null  int64  \n",
            " 4   연령대코드(5세단위)  10000 non-null  int64  \n",
            " 5   신장(5Cm단위)    10000 non-null  int64  \n",
            " 6   체중(5Kg 단위)   10000 non-null  int64  \n",
            " 7   허리둘레         10000 non-null  float64\n",
            " 8   시력(좌)        10000 non-null  float64\n",
            " 9   시력(우)        10000 non-null  float64\n",
            " 10  청력(좌)        10000 non-null  int64  \n",
            " 11  청력(우)        10000 non-null  int64  \n",
            " 12  수축기혈압        10000 non-null  float64\n",
            " 13  이완기혈압        10000 non-null  float64\n",
            " 14  식전혈당(공복혈당)   10000 non-null  float64\n",
            " 15  총콜레스테롤       10000 non-null  float64\n",
            " 16  트리글리세라이드     10000 non-null  float64\n",
            " 17  HDL콜레스테롤     10000 non-null  float64\n",
            " 18  LDL콜레스테롤     10000 non-null  float64\n",
            " 19  혈색소          10000 non-null  float64\n",
            " 20  요단백          10000 non-null  float64\n",
            " 21  혈청크레아티닌      10000 non-null  float64\n",
            " 22  (혈청지오티)AST   10000 non-null  float64\n",
            " 23  (혈청지오티)ALT   10000 non-null  float64\n",
            " 24  감마지티피        10000 non-null  float64\n",
            " 25  흡연상태         10000 non-null  float64\n",
            " 26  음주여부         10000 non-null  float64\n",
            " 27  구강검진수검여부     10000 non-null  int64  \n",
            " 28  치아우식증유무      10000 non-null  float64\n",
            " 29  치석           10000 non-null  float64\n",
            " 30  데이터공개일자      10000 non-null  int64  \n",
            "dtypes: float64(20), int64(11)\n",
            "memory usage: 2.4 MB\n"
          ]
        },
        {
          "output_type": "display_data",
          "data": {
            "text/plain": [
              "None"
            ]
          },
          "metadata": {}
        }
      ]
    },
    {
      "cell_type": "code",
      "source": [
        "#독립변수(26번 음주여부를 제외한 변수들)\n",
        "aa = [0,1,2,3,4,5,6,7,8,9,10,11,12,13,14,15,16,17,18,19,20,21,22,23,24,25,27,28,29,30]\n",
        "X = health.iloc[:,aa]\n",
        "#종속변수(26번 음주여부)\n",
        "y = health.iloc[:, 26] "
      ],
      "metadata": {
        "id": "SJk4MdEdKsAq"
      },
      "execution_count": null,
      "outputs": []
    },
    {
      "cell_type": "code",
      "source": [
        "X_train, X_test, y_train, y_test = train_test_split(X, y, test_size = 0.25, random_state=42)"
      ],
      "metadata": {
        "id": "e4-Me4zrP3mQ"
      },
      "execution_count": null,
      "outputs": []
    },
    {
      "cell_type": "code",
      "source": [
        "#학습용 데이터 정확도와 시험용 데이터 정확도 확인 \n",
        "tree = DecisionTreeClassifier(random_state=0)  \n",
        "tree.fit(X_train, y_train)\n",
        "print(\"학습용 데이터 정확도: {:.3f}\".format(tree.score(X_train, y_train)))\n",
        "print(\"시험용 데이터 정확도: {:.3f}\".format(tree.score(X_test, y_test)))"
      ],
      "metadata": {
        "colab": {
          "base_uri": "https://localhost:8080/"
        },
        "id": "rY01dPRhR_2_",
        "outputId": "722272fb-031b-407f-e358-386033f9db2e"
      },
      "execution_count": null,
      "outputs": [
        {
          "output_type": "stream",
          "name": "stdout",
          "text": [
            "학습용 데이터 정확도: 1.000\n",
            "시험용 데이터 정확도: 0.633\n"
          ]
        }
      ]
    },
    {
      "cell_type": "code",
      "source": [
        "tree = DecisionTreeClassifier(max_depth=5, random_state=0)\n",
        "tree.fit(X_train, y_train)\n",
        "\n",
        "print(\"학습용 데이터 정확도: {:.3f}\".format(tree.score(X_train, y_train)))\n",
        "print(\"시험용 데이터 정확도: {:.3f}\".format(tree.score(X_test, y_test)))"
      ],
      "metadata": {
        "colab": {
          "base_uri": "https://localhost:8080/"
        },
        "id": "FLH43Yisll9f",
        "outputId": "913038d9-9418-471e-a507-a89e63b4a7d0"
      },
      "execution_count": null,
      "outputs": [
        {
          "output_type": "stream",
          "name": "stdout",
          "text": [
            "학습용 데이터 정확도: 0.729\n",
            "시험용 데이터 정확도: 0.716\n"
          ]
        }
      ]
    },
    {
      "cell_type": "markdown",
      "source": [
        "<인사이트 도출>\n",
        "\n",
        "1. random_State는 0으로 고정하고 max_depth를 설정하였을 때와 하지 않았을 때의 결과가 다르다는 것을 알 수 있다. \n",
        "2. max_depth를 사용하였을 때는 그 숫자를 1에서 10까지 모두 넣어 셀을 실행해보았고 결과적으로 depth를 5로 지정했을때 시험용 데이터 정확도가 가장 컸다. \n",
        "3. max_depth를 실행 하지 않았을 때 학습용 데이터 정확도는 1이었지만 후자는 조금 낮아짐을 알 수 있고 반대로 시험용 데이터 정확도는 max_depth를 실행하였을 때 더 높게 나왔음을 알 수 있다. \n"
      ],
      "metadata": {
        "id": "xO2wUB5D8qU4"
      }
    },
    {
      "cell_type": "code",
      "source": [
        "#의사결정나무 그리기 \n",
        "from sklearn.tree import export_graphviz\n",
        "import graphviz\n",
        "\n",
        "export_graphviz(tree, out_file=\"tree.dot\", class_names=[ \"Yes\", \"No\"],\n",
        "                feature_names=health.columns[aa], impurity=False, filled=True)\n",
        "\n",
        "with open(\"tree.dot\") as f:\n",
        "    dot_graph = f.read()\n",
        "\n",
        "display(graphviz.Source(dot_graph))"
      ],
      "metadata": {
        "colab": {
          "base_uri": "https://localhost:8080/",
          "height": 815
        },
        "id": "O1BjtXsgmJ6S",
        "outputId": "61dc1895-185f-4a11-e70a-503f3b2e1dd1"
      },
      "execution_count": null,
      "outputs": [
        {
          "output_type": "display_data",
          "data": {
            "text/plain": [
              "<graphviz.files.Source at 0x7fe5edba0590>"
            ],
            "image/svg+xml": "<?xml version=\"1.0\" encoding=\"UTF-8\" standalone=\"no\"?>\n<!DOCTYPE svg PUBLIC \"-//W3C//DTD SVG 1.1//EN\"\n \"http://www.w3.org/Graphics/SVG/1.1/DTD/svg11.dtd\">\n<!-- Generated by graphviz version 2.40.1 (20161225.0304)\n -->\n<!-- Title: Tree Pages: 1 -->\n<svg width=\"4315pt\" height=\"581pt\"\n viewBox=\"0.00 0.00 4314.50 581.00\" xmlns=\"http://www.w3.org/2000/svg\" xmlns:xlink=\"http://www.w3.org/1999/xlink\">\n<g id=\"graph0\" class=\"graph\" transform=\"scale(1 1) rotate(0) translate(4 577)\">\n<title>Tree</title>\n<polygon fill=\"#ffffff\" stroke=\"transparent\" points=\"-4,4 -4,-577 4310.5,-577 4310.5,4 -4,4\"/>\n<!-- 0 -->\n<g id=\"node1\" class=\"node\">\n<title>0</title>\n<polygon fill=\"#c7e3f8\" stroke=\"#000000\" points=\"2393.5,-573 2244.5,-573 2244.5,-505 2393.5,-505 2393.5,-573\"/>\n<text text-anchor=\"middle\" x=\"2319\" y=\"-557.8\" font-family=\"Helvetica,sans-Serif\" font-size=\"14.00\" fill=\"#000000\">흡연상태 &lt;= 0.5</text>\n<text text-anchor=\"middle\" x=\"2319\" y=\"-542.8\" font-family=\"Helvetica,sans-Serif\" font-size=\"14.00\" fill=\"#000000\">samples = 7500</text>\n<text text-anchor=\"middle\" x=\"2319\" y=\"-527.8\" font-family=\"Helvetica,sans-Serif\" font-size=\"14.00\" fill=\"#000000\">value = [3132, 4368]</text>\n<text text-anchor=\"middle\" x=\"2319\" y=\"-512.8\" font-family=\"Helvetica,sans-Serif\" font-size=\"14.00\" fill=\"#000000\">class = No</text>\n</g>\n<!-- 1 -->\n<g id=\"node2\" class=\"node\">\n<title>1</title>\n<polygon fill=\"#fbebe0\" stroke=\"#000000\" points=\"1762,-469 1568,-469 1568,-401 1762,-401 1762,-469\"/>\n<text text-anchor=\"middle\" x=\"1665\" y=\"-453.8\" font-family=\"Helvetica,sans-Serif\" font-size=\"14.00\" fill=\"#000000\">연령대코드(5세단위) &lt;= 12.5</text>\n<text text-anchor=\"middle\" x=\"1665\" y=\"-438.8\" font-family=\"Helvetica,sans-Serif\" font-size=\"14.00\" fill=\"#000000\">samples = 4667</text>\n<text text-anchor=\"middle\" x=\"1665\" y=\"-423.8\" font-family=\"Helvetica,sans-Serif\" font-size=\"14.00\" fill=\"#000000\">value = [2530, 2137]</text>\n<text text-anchor=\"middle\" x=\"1665\" y=\"-408.8\" font-family=\"Helvetica,sans-Serif\" font-size=\"14.00\" fill=\"#000000\">class = Yes</text>\n</g>\n<!-- 0&#45;&gt;1 -->\n<g id=\"edge1\" class=\"edge\">\n<title>0&#45;&gt;1</title>\n<path fill=\"none\" stroke=\"#000000\" d=\"M2244.2965,-527.1205C2128.5826,-508.7196 1905.5108,-473.2464 1772.4869,-452.0927\"/>\n<polygon fill=\"#000000\" stroke=\"#000000\" points=\"1772.7027,-448.5831 1762.2771,-450.4691 1771.6033,-455.4963 1772.7027,-448.5831\"/>\n<text text-anchor=\"middle\" x=\"1776.9591\" y=\"-467.0037\" font-family=\"Helvetica,sans-Serif\" font-size=\"14.00\" fill=\"#000000\">True</text>\n</g>\n<!-- 32 -->\n<g id=\"node33\" class=\"node\">\n<title>32</title>\n<polygon fill=\"#6eb7ec\" stroke=\"#000000\" points=\"2815,-469 2675,-469 2675,-401 2815,-401 2815,-469\"/>\n<text text-anchor=\"middle\" x=\"2745\" y=\"-453.8\" font-family=\"Helvetica,sans-Serif\" font-size=\"14.00\" fill=\"#000000\">감마지티피 &lt;= 17.5</text>\n<text text-anchor=\"middle\" x=\"2745\" y=\"-438.8\" font-family=\"Helvetica,sans-Serif\" font-size=\"14.00\" fill=\"#000000\">samples = 2833</text>\n<text text-anchor=\"middle\" x=\"2745\" y=\"-423.8\" font-family=\"Helvetica,sans-Serif\" font-size=\"14.00\" fill=\"#000000\">value = [602, 2231]</text>\n<text text-anchor=\"middle\" x=\"2745\" y=\"-408.8\" font-family=\"Helvetica,sans-Serif\" font-size=\"14.00\" fill=\"#000000\">class = No</text>\n</g>\n<!-- 0&#45;&gt;32 -->\n<g id=\"edge32\" class=\"edge\">\n<title>0&#45;&gt;32</title>\n<path fill=\"none\" stroke=\"#000000\" d=\"M2393.691,-520.7656C2469.7789,-502.1901 2587.3511,-473.4871 2665.2257,-454.4754\"/>\n<polygon fill=\"#000000\" stroke=\"#000000\" points=\"2666.109,-457.8627 2674.9936,-452.0908 2664.4488,-451.0624 2666.109,-457.8627\"/>\n<text text-anchor=\"middle\" x=\"2662.0128\" y=\"-469.7566\" font-family=\"Helvetica,sans-Serif\" font-size=\"14.00\" fill=\"#000000\">False</text>\n</g>\n<!-- 2 -->\n<g id=\"node3\" class=\"node\">\n<title>2</title>\n<polygon fill=\"#bedff6\" stroke=\"#000000\" points=\"951,-365 757,-365 757,-297 951,-297 951,-365\"/>\n<text text-anchor=\"middle\" x=\"854\" y=\"-349.8\" font-family=\"Helvetica,sans-Serif\" font-size=\"14.00\" fill=\"#000000\">연령대코드(5세단위) &lt;= 10.5</text>\n<text text-anchor=\"middle\" x=\"854\" y=\"-334.8\" font-family=\"Helvetica,sans-Serif\" font-size=\"14.00\" fill=\"#000000\">samples = 2708</text>\n<text text-anchor=\"middle\" x=\"854\" y=\"-319.8\" font-family=\"Helvetica,sans-Serif\" font-size=\"14.00\" fill=\"#000000\">value = [1088, 1620]</text>\n<text text-anchor=\"middle\" x=\"854\" y=\"-304.8\" font-family=\"Helvetica,sans-Serif\" font-size=\"14.00\" fill=\"#000000\">class = No</text>\n</g>\n<!-- 1&#45;&gt;2 -->\n<g id=\"edge2\" class=\"edge\">\n<title>1&#45;&gt;2</title>\n<path fill=\"none\" stroke=\"#000000\" d=\"M1567.98,-422.5585C1415.3478,-402.9854 1120.2145,-365.1385 961.3928,-344.7717\"/>\n<polygon fill=\"#000000\" stroke=\"#000000\" points=\"961.4955,-341.2563 951.1316,-343.4558 960.6051,-348.1994 961.4955,-341.2563\"/>\n</g>\n<!-- 17 -->\n<g id=\"node18\" class=\"node\">\n<title>17</title>\n<polygon fill=\"#eeae80\" stroke=\"#000000\" points=\"1735,-365 1595,-365 1595,-297 1735,-297 1735,-365\"/>\n<text text-anchor=\"middle\" x=\"1665\" y=\"-349.8\" font-family=\"Helvetica,sans-Serif\" font-size=\"14.00\" fill=\"#000000\">성별코드 &lt;= 0.5</text>\n<text text-anchor=\"middle\" x=\"1665\" y=\"-334.8\" font-family=\"Helvetica,sans-Serif\" font-size=\"14.00\" fill=\"#000000\">samples = 1959</text>\n<text text-anchor=\"middle\" x=\"1665\" y=\"-319.8\" font-family=\"Helvetica,sans-Serif\" font-size=\"14.00\" fill=\"#000000\">value = [1442, 517]</text>\n<text text-anchor=\"middle\" x=\"1665\" y=\"-304.8\" font-family=\"Helvetica,sans-Serif\" font-size=\"14.00\" fill=\"#000000\">class = Yes</text>\n</g>\n<!-- 1&#45;&gt;17 -->\n<g id=\"edge17\" class=\"edge\">\n<title>1&#45;&gt;17</title>\n<path fill=\"none\" stroke=\"#000000\" d=\"M1665,-400.9465C1665,-392.776 1665,-383.9318 1665,-375.3697\"/>\n<polygon fill=\"#000000\" stroke=\"#000000\" points=\"1668.5001,-375.13 1665,-365.13 1661.5001,-375.13 1668.5001,-375.13\"/>\n</g>\n<!-- 3 -->\n<g id=\"node4\" class=\"node\">\n<title>3</title>\n<polygon fill=\"#96cbf1\" stroke=\"#000000\" points=\"529.5,-261 358.5,-261 358.5,-193 529.5,-193 529.5,-261\"/>\n<text text-anchor=\"middle\" x=\"444\" y=\"-245.8\" font-family=\"Helvetica,sans-Serif\" font-size=\"14.00\" fill=\"#000000\">신장(5Cm단위) &lt;= 167.5</text>\n<text text-anchor=\"middle\" x=\"444\" y=\"-230.8\" font-family=\"Helvetica,sans-Serif\" font-size=\"14.00\" fill=\"#000000\">samples = 1204</text>\n<text text-anchor=\"middle\" x=\"444\" y=\"-215.8\" font-family=\"Helvetica,sans-Serif\" font-size=\"14.00\" fill=\"#000000\">value = [385, 819]</text>\n<text text-anchor=\"middle\" x=\"444\" y=\"-200.8\" font-family=\"Helvetica,sans-Serif\" font-size=\"14.00\" fill=\"#000000\">class = No</text>\n</g>\n<!-- 2&#45;&gt;3 -->\n<g id=\"edge3\" class=\"edge\">\n<title>2&#45;&gt;3</title>\n<path fill=\"none\" stroke=\"#000000\" d=\"M756.8357,-306.3535C691.1785,-289.6989 604.8901,-267.8111 539.5703,-251.2422\"/>\n<polygon fill=\"#000000\" stroke=\"#000000\" points=\"540.2358,-247.8003 529.6822,-248.734 538.5147,-254.5854 540.2358,-247.8003\"/>\n</g>\n<!-- 10 -->\n<g id=\"node11\" class=\"node\">\n<title>10</title>\n<polygon fill=\"#e7f3fc\" stroke=\"#000000\" points=\"920,-261 788,-261 788,-193 920,-193 920,-261\"/>\n<text text-anchor=\"middle\" x=\"854\" y=\"-245.8\" font-family=\"Helvetica,sans-Serif\" font-size=\"14.00\" fill=\"#000000\">성별코드 &lt;= 0.5</text>\n<text text-anchor=\"middle\" x=\"854\" y=\"-230.8\" font-family=\"Helvetica,sans-Serif\" font-size=\"14.00\" fill=\"#000000\">samples = 1504</text>\n<text text-anchor=\"middle\" x=\"854\" y=\"-215.8\" font-family=\"Helvetica,sans-Serif\" font-size=\"14.00\" fill=\"#000000\">value = [703, 801]</text>\n<text text-anchor=\"middle\" x=\"854\" y=\"-200.8\" font-family=\"Helvetica,sans-Serif\" font-size=\"14.00\" fill=\"#000000\">class = No</text>\n</g>\n<!-- 2&#45;&gt;10 -->\n<g id=\"edge10\" class=\"edge\">\n<title>2&#45;&gt;10</title>\n<path fill=\"none\" stroke=\"#000000\" d=\"M854,-296.9465C854,-288.776 854,-279.9318 854,-271.3697\"/>\n<polygon fill=\"#000000\" stroke=\"#000000\" points=\"857.5001,-271.13 854,-261.13 850.5001,-271.13 857.5001,-271.13\"/>\n</g>\n<!-- 4 -->\n<g id=\"node5\" class=\"node\">\n<title>4</title>\n<polygon fill=\"#a4d2f3\" stroke=\"#000000\" points=\"309,-157 123,-157 123,-89 309,-89 309,-157\"/>\n<text text-anchor=\"middle\" x=\"216\" y=\"-141.8\" font-family=\"Helvetica,sans-Serif\" font-size=\"14.00\" fill=\"#000000\">연령대코드(5세단위) &lt;= 9.5</text>\n<text text-anchor=\"middle\" x=\"216\" y=\"-126.8\" font-family=\"Helvetica,sans-Serif\" font-size=\"14.00\" fill=\"#000000\">samples = 920</text>\n<text text-anchor=\"middle\" x=\"216\" y=\"-111.8\" font-family=\"Helvetica,sans-Serif\" font-size=\"14.00\" fill=\"#000000\">value = [322, 598]</text>\n<text text-anchor=\"middle\" x=\"216\" y=\"-96.8\" font-family=\"Helvetica,sans-Serif\" font-size=\"14.00\" fill=\"#000000\">class = No</text>\n</g>\n<!-- 3&#45;&gt;4 -->\n<g id=\"edge4\" class=\"edge\">\n<title>3&#45;&gt;4</title>\n<path fill=\"none\" stroke=\"#000000\" d=\"M369.3443,-192.9465C347.2001,-182.8457 322.7984,-171.7151 300.0987,-161.3608\"/>\n<polygon fill=\"#000000\" stroke=\"#000000\" points=\"301.3742,-158.0957 290.8235,-157.13 298.4691,-164.4645 301.3742,-158.0957\"/>\n</g>\n<!-- 7 -->\n<g id=\"node8\" class=\"node\">\n<title>7</title>\n<polygon fill=\"#71b9ec\" stroke=\"#000000\" points=\"506,-157 382,-157 382,-89 506,-89 506,-157\"/>\n<text text-anchor=\"middle\" x=\"444\" y=\"-141.8\" font-family=\"Helvetica,sans-Serif\" font-size=\"14.00\" fill=\"#000000\">시도코드 &lt;= 46.5</text>\n<text text-anchor=\"middle\" x=\"444\" y=\"-126.8\" font-family=\"Helvetica,sans-Serif\" font-size=\"14.00\" fill=\"#000000\">samples = 284</text>\n<text text-anchor=\"middle\" x=\"444\" y=\"-111.8\" font-family=\"Helvetica,sans-Serif\" font-size=\"14.00\" fill=\"#000000\">value = [63, 221]</text>\n<text text-anchor=\"middle\" x=\"444\" y=\"-96.8\" font-family=\"Helvetica,sans-Serif\" font-size=\"14.00\" fill=\"#000000\">class = No</text>\n</g>\n<!-- 3&#45;&gt;7 -->\n<g id=\"edge7\" class=\"edge\">\n<title>3&#45;&gt;7</title>\n<path fill=\"none\" stroke=\"#000000\" d=\"M444,-192.9465C444,-184.776 444,-175.9318 444,-167.3697\"/>\n<polygon fill=\"#000000\" stroke=\"#000000\" points=\"447.5001,-167.13 444,-157.13 440.5001,-167.13 447.5001,-167.13\"/>\n</g>\n<!-- 5 -->\n<g id=\"node6\" class=\"node\">\n<title>5</title>\n<polygon fill=\"#8fc8f0\" stroke=\"#000000\" points=\"132,-53 0,-53 0,0 132,0 132,-53\"/>\n<text text-anchor=\"middle\" x=\"66\" y=\"-37.8\" font-family=\"Helvetica,sans-Serif\" font-size=\"14.00\" fill=\"#000000\">samples = 481</text>\n<text text-anchor=\"middle\" x=\"66\" y=\"-22.8\" font-family=\"Helvetica,sans-Serif\" font-size=\"14.00\" fill=\"#000000\">value = [146, 335]</text>\n<text text-anchor=\"middle\" x=\"66\" y=\"-7.8\" font-family=\"Helvetica,sans-Serif\" font-size=\"14.00\" fill=\"#000000\">class = No</text>\n</g>\n<!-- 4&#45;&gt;5 -->\n<g id=\"edge5\" class=\"edge\">\n<title>4&#45;&gt;5</title>\n<path fill=\"none\" stroke=\"#000000\" d=\"M163.1156,-88.9777C147.8856,-79.1798 131.3194,-68.5222 116.2536,-58.8298\"/>\n<polygon fill=\"#000000\" stroke=\"#000000\" points=\"117.8816,-55.7154 107.5779,-53.2485 114.0943,-61.6024 117.8816,-55.7154\"/>\n</g>\n<!-- 6 -->\n<g id=\"node7\" class=\"node\">\n<title>6</title>\n<polygon fill=\"#bedff6\" stroke=\"#000000\" points=\"282,-53 150,-53 150,0 282,0 282,-53\"/>\n<text text-anchor=\"middle\" x=\"216\" y=\"-37.8\" font-family=\"Helvetica,sans-Serif\" font-size=\"14.00\" fill=\"#000000\">samples = 439</text>\n<text text-anchor=\"middle\" x=\"216\" y=\"-22.8\" font-family=\"Helvetica,sans-Serif\" font-size=\"14.00\" fill=\"#000000\">value = [176, 263]</text>\n<text text-anchor=\"middle\" x=\"216\" y=\"-7.8\" font-family=\"Helvetica,sans-Serif\" font-size=\"14.00\" fill=\"#000000\">class = No</text>\n</g>\n<!-- 4&#45;&gt;6 -->\n<g id=\"edge6\" class=\"edge\">\n<title>4&#45;&gt;6</title>\n<path fill=\"none\" stroke=\"#000000\" d=\"M216,-88.9777C216,-80.7364 216,-71.887 216,-63.5153\"/>\n<polygon fill=\"#000000\" stroke=\"#000000\" points=\"219.5001,-63.2484 216,-53.2485 212.5001,-63.2485 219.5001,-63.2484\"/>\n</g>\n<!-- 8 -->\n<g id=\"node9\" class=\"node\">\n<title>8</title>\n<polygon fill=\"#69b5eb\" stroke=\"#000000\" points=\"424,-53 300,-53 300,0 424,0 424,-53\"/>\n<text text-anchor=\"middle\" x=\"362\" y=\"-37.8\" font-family=\"Helvetica,sans-Serif\" font-size=\"14.00\" fill=\"#000000\">samples = 247</text>\n<text text-anchor=\"middle\" x=\"362\" y=\"-22.8\" font-family=\"Helvetica,sans-Serif\" font-size=\"14.00\" fill=\"#000000\">value = [48, 199]</text>\n<text text-anchor=\"middle\" x=\"362\" y=\"-7.8\" font-family=\"Helvetica,sans-Serif\" font-size=\"14.00\" fill=\"#000000\">class = No</text>\n</g>\n<!-- 7&#45;&gt;8 -->\n<g id=\"edge8\" class=\"edge\">\n<title>7&#45;&gt;8</title>\n<path fill=\"none\" stroke=\"#000000\" d=\"M415.0899,-88.9777C407.3866,-79.9123 399.0581,-70.111 391.3324,-61.0192\"/>\n<polygon fill=\"#000000\" stroke=\"#000000\" points=\"393.8718,-58.6025 384.7293,-53.2485 388.5375,-63.1352 393.8718,-58.6025\"/>\n</g>\n<!-- 9 -->\n<g id=\"node10\" class=\"node\">\n<title>9</title>\n<polygon fill=\"#c0e0f7\" stroke=\"#000000\" points=\"558,-53 442,-53 442,0 558,0 558,-53\"/>\n<text text-anchor=\"middle\" x=\"500\" y=\"-37.8\" font-family=\"Helvetica,sans-Serif\" font-size=\"14.00\" fill=\"#000000\">samples = 37</text>\n<text text-anchor=\"middle\" x=\"500\" y=\"-22.8\" font-family=\"Helvetica,sans-Serif\" font-size=\"14.00\" fill=\"#000000\">value = [15, 22]</text>\n<text text-anchor=\"middle\" x=\"500\" y=\"-7.8\" font-family=\"Helvetica,sans-Serif\" font-size=\"14.00\" fill=\"#000000\">class = No</text>\n</g>\n<!-- 7&#45;&gt;9 -->\n<g id=\"edge9\" class=\"edge\">\n<title>7&#45;&gt;9</title>\n<path fill=\"none\" stroke=\"#000000\" d=\"M463.7435,-88.9777C468.7917,-80.2786 474.2331,-70.9018 479.3266,-62.1247\"/>\n<polygon fill=\"#000000\" stroke=\"#000000\" points=\"482.4855,-63.6544 484.4776,-53.2485 476.4311,-60.1409 482.4855,-63.6544\"/>\n</g>\n<!-- 11 -->\n<g id=\"node12\" class=\"node\">\n<title>11</title>\n<polygon fill=\"#a0d0f3\" stroke=\"#000000\" points=\"852,-157 694,-157 694,-89 852,-89 852,-157\"/>\n<text text-anchor=\"middle\" x=\"773\" y=\"-141.8\" font-family=\"Helvetica,sans-Serif\" font-size=\"14.00\" fill=\"#000000\">총콜레스테롤 &lt;= 187.5</text>\n<text text-anchor=\"middle\" x=\"773\" y=\"-126.8\" font-family=\"Helvetica,sans-Serif\" font-size=\"14.00\" fill=\"#000000\">samples = 368</text>\n<text text-anchor=\"middle\" x=\"773\" y=\"-111.8\" font-family=\"Helvetica,sans-Serif\" font-size=\"14.00\" fill=\"#000000\">value = [126, 242]</text>\n<text text-anchor=\"middle\" x=\"773\" y=\"-96.8\" font-family=\"Helvetica,sans-Serif\" font-size=\"14.00\" fill=\"#000000\">class = No</text>\n</g>\n<!-- 10&#45;&gt;11 -->\n<g id=\"edge11\" class=\"edge\">\n<title>10&#45;&gt;11</title>\n<path fill=\"none\" stroke=\"#000000\" d=\"M827.4776,-192.9465C820.5546,-184.0578 813.0106,-174.3716 805.804,-165.1188\"/>\n<polygon fill=\"#000000\" stroke=\"#000000\" points=\"808.488,-162.8688 799.582,-157.13 802.9654,-167.1701 808.488,-162.8688\"/>\n</g>\n<!-- 14 -->\n<g id=\"node15\" class=\"node\">\n<title>14</title>\n<polygon fill=\"#fefbf9\" stroke=\"#000000\" points=\"1002,-157 870,-157 870,-89 1002,-89 1002,-157\"/>\n<text text-anchor=\"middle\" x=\"936\" y=\"-141.8\" font-family=\"Helvetica,sans-Serif\" font-size=\"14.00\" fill=\"#000000\">시도코드 &lt;= 44.5</text>\n<text text-anchor=\"middle\" x=\"936\" y=\"-126.8\" font-family=\"Helvetica,sans-Serif\" font-size=\"14.00\" fill=\"#000000\">samples = 1136</text>\n<text text-anchor=\"middle\" x=\"936\" y=\"-111.8\" font-family=\"Helvetica,sans-Serif\" font-size=\"14.00\" fill=\"#000000\">value = [577, 559]</text>\n<text text-anchor=\"middle\" x=\"936\" y=\"-96.8\" font-family=\"Helvetica,sans-Serif\" font-size=\"14.00\" fill=\"#000000\">class = Yes</text>\n</g>\n<!-- 10&#45;&gt;14 -->\n<g id=\"edge14\" class=\"edge\">\n<title>10&#45;&gt;14</title>\n<path fill=\"none\" stroke=\"#000000\" d=\"M880.8499,-192.9465C887.8583,-184.0578 895.4955,-174.3716 902.791,-165.1188\"/>\n<polygon fill=\"#000000\" stroke=\"#000000\" points=\"905.6467,-167.1498 909.0898,-157.13 900.1498,-162.8157 905.6467,-167.1498\"/>\n</g>\n<!-- 12 -->\n<g id=\"node13\" class=\"node\">\n<title>12</title>\n<polygon fill=\"#b6dbf5\" stroke=\"#000000\" points=\"708,-53 576,-53 576,0 708,0 708,-53\"/>\n<text text-anchor=\"middle\" x=\"642\" y=\"-37.8\" font-family=\"Helvetica,sans-Serif\" font-size=\"14.00\" fill=\"#000000\">samples = 294</text>\n<text text-anchor=\"middle\" x=\"642\" y=\"-22.8\" font-family=\"Helvetica,sans-Serif\" font-size=\"14.00\" fill=\"#000000\">value = [114, 180]</text>\n<text text-anchor=\"middle\" x=\"642\" y=\"-7.8\" font-family=\"Helvetica,sans-Serif\" font-size=\"14.00\" fill=\"#000000\">class = No</text>\n</g>\n<!-- 11&#45;&gt;12 -->\n<g id=\"edge12\" class=\"edge\">\n<title>11&#45;&gt;12</title>\n<path fill=\"none\" stroke=\"#000000\" d=\"M726.8143,-88.9777C713.7621,-79.3629 699.5861,-68.9203 686.6273,-59.3743\"/>\n<polygon fill=\"#000000\" stroke=\"#000000\" points=\"688.4386,-56.3615 678.3114,-53.2485 684.2869,-61.9974 688.4386,-56.3615\"/>\n</g>\n<!-- 13 -->\n<g id=\"node14\" class=\"node\">\n<title>13</title>\n<polygon fill=\"#5fb0ea\" stroke=\"#000000\" points=\"842,-53 726,-53 726,0 842,0 842,-53\"/>\n<text text-anchor=\"middle\" x=\"784\" y=\"-37.8\" font-family=\"Helvetica,sans-Serif\" font-size=\"14.00\" fill=\"#000000\">samples = 74</text>\n<text text-anchor=\"middle\" x=\"784\" y=\"-22.8\" font-family=\"Helvetica,sans-Serif\" font-size=\"14.00\" fill=\"#000000\">value = [12, 62]</text>\n<text text-anchor=\"middle\" x=\"784\" y=\"-7.8\" font-family=\"Helvetica,sans-Serif\" font-size=\"14.00\" fill=\"#000000\">class = No</text>\n</g>\n<!-- 11&#45;&gt;13 -->\n<g id=\"edge13\" class=\"edge\">\n<title>11&#45;&gt;13</title>\n<path fill=\"none\" stroke=\"#000000\" d=\"M776.8782,-88.9777C777.828,-80.6449 778.8488,-71.6903 779.8124,-63.2364\"/>\n<polygon fill=\"#000000\" stroke=\"#000000\" points=\"783.2958,-63.5806 780.951,-53.2485 776.3408,-62.7877 783.2958,-63.5806\"/>\n</g>\n<!-- 15 -->\n<g id=\"node16\" class=\"node\">\n<title>15</title>\n<polygon fill=\"#eaf5fc\" stroke=\"#000000\" points=\"992,-53 860,-53 860,0 992,0 992,-53\"/>\n<text text-anchor=\"middle\" x=\"926\" y=\"-37.8\" font-family=\"Helvetica,sans-Serif\" font-size=\"14.00\" fill=\"#000000\">samples = 894</text>\n<text text-anchor=\"middle\" x=\"926\" y=\"-22.8\" font-family=\"Helvetica,sans-Serif\" font-size=\"14.00\" fill=\"#000000\">value = [422, 472]</text>\n<text text-anchor=\"middle\" x=\"926\" y=\"-7.8\" font-family=\"Helvetica,sans-Serif\" font-size=\"14.00\" fill=\"#000000\">class = No</text>\n</g>\n<!-- 14&#45;&gt;15 -->\n<g id=\"edge15\" class=\"edge\">\n<title>14&#45;&gt;15</title>\n<path fill=\"none\" stroke=\"#000000\" d=\"M932.4744,-88.9777C931.6109,-80.6449 930.6829,-71.6903 929.8069,-63.2364\"/>\n<polygon fill=\"#000000\" stroke=\"#000000\" points=\"933.2841,-62.8344 928.7719,-53.2485 926.3213,-63.556 933.2841,-62.8344\"/>\n</g>\n<!-- 16 -->\n<g id=\"node17\" class=\"node\">\n<title>16</title>\n<polygon fill=\"#f4c8a8\" stroke=\"#000000\" points=\"1134,-53 1010,-53 1010,0 1134,0 1134,-53\"/>\n<text text-anchor=\"middle\" x=\"1072\" y=\"-37.8\" font-family=\"Helvetica,sans-Serif\" font-size=\"14.00\" fill=\"#000000\">samples = 242</text>\n<text text-anchor=\"middle\" x=\"1072\" y=\"-22.8\" font-family=\"Helvetica,sans-Serif\" font-size=\"14.00\" fill=\"#000000\">value = [155, 87]</text>\n<text text-anchor=\"middle\" x=\"1072\" y=\"-7.8\" font-family=\"Helvetica,sans-Serif\" font-size=\"14.00\" fill=\"#000000\">class = Yes</text>\n</g>\n<!-- 14&#45;&gt;16 -->\n<g id=\"edge16\" class=\"edge\">\n<title>14&#45;&gt;16</title>\n<path fill=\"none\" stroke=\"#000000\" d=\"M983.9485,-88.9777C997.628,-79.2713 1012.4964,-68.7213 1026.0534,-59.1018\"/>\n<polygon fill=\"#000000\" stroke=\"#000000\" points=\"1028.1725,-61.8898 1034.3027,-53.2485 1024.1217,-56.1809 1028.1725,-61.8898\"/>\n</g>\n<!-- 18 -->\n<g id=\"node19\" class=\"node\">\n<title>18</title>\n<polygon fill=\"#fbede3\" stroke=\"#000000\" points=\"1640.5,-261 1503.5,-261 1503.5,-193 1640.5,-193 1640.5,-261\"/>\n<text text-anchor=\"middle\" x=\"1572\" y=\"-245.8\" font-family=\"Helvetica,sans-Serif\" font-size=\"14.00\" fill=\"#000000\">감마지티피 &lt;= 28.5</text>\n<text text-anchor=\"middle\" x=\"1572\" y=\"-230.8\" font-family=\"Helvetica,sans-Serif\" font-size=\"14.00\" fill=\"#000000\">samples = 511</text>\n<text text-anchor=\"middle\" x=\"1572\" y=\"-215.8\" font-family=\"Helvetica,sans-Serif\" font-size=\"14.00\" fill=\"#000000\">value = [275, 236]</text>\n<text text-anchor=\"middle\" x=\"1572\" y=\"-200.8\" font-family=\"Helvetica,sans-Serif\" font-size=\"14.00\" fill=\"#000000\">class = Yes</text>\n</g>\n<!-- 17&#45;&gt;18 -->\n<g id=\"edge18\" class=\"edge\">\n<title>17&#45;&gt;18</title>\n<path fill=\"none\" stroke=\"#000000\" d=\"M1634.5483,-296.9465C1626.5194,-287.968 1617.763,-278.1758 1609.4133,-268.8385\"/>\n<polygon fill=\"#000000\" stroke=\"#000000\" points=\"1611.795,-266.2512 1602.5201,-261.13 1606.577,-270.9174 1611.795,-266.2512\"/>\n</g>\n<!-- 25 -->\n<g id=\"node26\" class=\"node\">\n<title>25</title>\n<polygon fill=\"#eb9f69\" stroke=\"#000000\" points=\"1875,-261 1681,-261 1681,-193 1875,-193 1875,-261\"/>\n<text text-anchor=\"middle\" x=\"1778\" y=\"-245.8\" font-family=\"Helvetica,sans-Serif\" font-size=\"14.00\" fill=\"#000000\">연령대코드(5세단위) &lt;= 14.5</text>\n<text text-anchor=\"middle\" x=\"1778\" y=\"-230.8\" font-family=\"Helvetica,sans-Serif\" font-size=\"14.00\" fill=\"#000000\">samples = 1448</text>\n<text text-anchor=\"middle\" x=\"1778\" y=\"-215.8\" font-family=\"Helvetica,sans-Serif\" font-size=\"14.00\" fill=\"#000000\">value = [1167, 281]</text>\n<text text-anchor=\"middle\" x=\"1778\" y=\"-200.8\" font-family=\"Helvetica,sans-Serif\" font-size=\"14.00\" fill=\"#000000\">class = Yes</text>\n</g>\n<!-- 17&#45;&gt;25 -->\n<g id=\"edge25\" class=\"edge\">\n<title>17&#45;&gt;25</title>\n<path fill=\"none\" stroke=\"#000000\" d=\"M1702.0004,-296.9465C1712.0486,-287.6986 1723.0347,-277.5876 1733.4526,-267.9994\"/>\n<polygon fill=\"#000000\" stroke=\"#000000\" points=\"1735.9286,-270.4773 1740.9164,-261.13 1731.1882,-265.3267 1735.9286,-270.4773\"/>\n</g>\n<!-- 19 -->\n<g id=\"node20\" class=\"node\">\n<title>19</title>\n<polygon fill=\"#f3c5a3\" stroke=\"#000000\" points=\"1410,-157 1278,-157 1278,-89 1410,-89 1410,-157\"/>\n<text text-anchor=\"middle\" x=\"1344\" y=\"-141.8\" font-family=\"Helvetica,sans-Serif\" font-size=\"14.00\" fill=\"#000000\">시력(좌) &lt;= 0.75</text>\n<text text-anchor=\"middle\" x=\"1344\" y=\"-126.8\" font-family=\"Helvetica,sans-Serif\" font-size=\"14.00\" fill=\"#000000\">samples = 289</text>\n<text text-anchor=\"middle\" x=\"1344\" y=\"-111.8\" font-family=\"Helvetica,sans-Serif\" font-size=\"14.00\" fill=\"#000000\">value = [188, 101]</text>\n<text text-anchor=\"middle\" x=\"1344\" y=\"-96.8\" font-family=\"Helvetica,sans-Serif\" font-size=\"14.00\" fill=\"#000000\">class = Yes</text>\n</g>\n<!-- 18&#45;&gt;19 -->\n<g id=\"edge19\" class=\"edge\">\n<title>18&#45;&gt;19</title>\n<path fill=\"none\" stroke=\"#000000\" d=\"M1503.2833,-195.6555C1476.893,-183.6179 1446.6368,-169.8168 1419.6322,-157.4989\"/>\n<polygon fill=\"#000000\" stroke=\"#000000\" points=\"1420.7783,-154.1748 1410.2276,-153.2091 1417.8732,-160.5435 1420.7783,-154.1748\"/>\n</g>\n<!-- 22 -->\n<g id=\"node23\" class=\"node\">\n<title>22</title>\n<polygon fill=\"#b9dcf6\" stroke=\"#000000\" points=\"1659,-157 1485,-157 1485,-89 1659,-89 1659,-157\"/>\n<text text-anchor=\"middle\" x=\"1572\" y=\"-141.8\" font-family=\"Helvetica,sans-Serif\" font-size=\"14.00\" fill=\"#000000\">(혈청지오티)AST &lt;= 20.5</text>\n<text text-anchor=\"middle\" x=\"1572\" y=\"-126.8\" font-family=\"Helvetica,sans-Serif\" font-size=\"14.00\" fill=\"#000000\">samples = 222</text>\n<text text-anchor=\"middle\" x=\"1572\" y=\"-111.8\" font-family=\"Helvetica,sans-Serif\" font-size=\"14.00\" fill=\"#000000\">value = [87, 135]</text>\n<text text-anchor=\"middle\" x=\"1572\" y=\"-96.8\" font-family=\"Helvetica,sans-Serif\" font-size=\"14.00\" fill=\"#000000\">class = No</text>\n</g>\n<!-- 18&#45;&gt;22 -->\n<g id=\"edge22\" class=\"edge\">\n<title>18&#45;&gt;22</title>\n<path fill=\"none\" stroke=\"#000000\" d=\"M1572,-192.9465C1572,-184.776 1572,-175.9318 1572,-167.3697\"/>\n<polygon fill=\"#000000\" stroke=\"#000000\" points=\"1575.5001,-167.13 1572,-157.13 1568.5001,-167.13 1575.5001,-167.13\"/>\n</g>\n<!-- 20 -->\n<g id=\"node21\" class=\"node\">\n<title>20</title>\n<polygon fill=\"#eca26e\" stroke=\"#000000\" points=\"1268,-53 1152,-53 1152,0 1268,0 1268,-53\"/>\n<text text-anchor=\"middle\" x=\"1210\" y=\"-37.8\" font-family=\"Helvetica,sans-Serif\" font-size=\"14.00\" fill=\"#000000\">samples = 124</text>\n<text text-anchor=\"middle\" x=\"1210\" y=\"-22.8\" font-family=\"Helvetica,sans-Serif\" font-size=\"14.00\" fill=\"#000000\">value = [98, 26]</text>\n<text text-anchor=\"middle\" x=\"1210\" y=\"-7.8\" font-family=\"Helvetica,sans-Serif\" font-size=\"14.00\" fill=\"#000000\">class = Yes</text>\n</g>\n<!-- 19&#45;&gt;20 -->\n<g id=\"edge20\" class=\"edge\">\n<title>19&#45;&gt;20</title>\n<path fill=\"none\" stroke=\"#000000\" d=\"M1296.7566,-88.9777C1283.2783,-79.2713 1268.6285,-68.7213 1255.2709,-59.1018\"/>\n<polygon fill=\"#000000\" stroke=\"#000000\" points=\"1257.3031,-56.2522 1247.143,-53.2485 1253.2124,-61.9325 1257.3031,-56.2522\"/>\n</g>\n<!-- 21 -->\n<g id=\"node22\" class=\"node\">\n<title>21</title>\n<polygon fill=\"#fbeade\" stroke=\"#000000\" points=\"1402,-53 1286,-53 1286,0 1402,0 1402,-53\"/>\n<text text-anchor=\"middle\" x=\"1344\" y=\"-37.8\" font-family=\"Helvetica,sans-Serif\" font-size=\"14.00\" fill=\"#000000\">samples = 165</text>\n<text text-anchor=\"middle\" x=\"1344\" y=\"-22.8\" font-family=\"Helvetica,sans-Serif\" font-size=\"14.00\" fill=\"#000000\">value = [90, 75]</text>\n<text text-anchor=\"middle\" x=\"1344\" y=\"-7.8\" font-family=\"Helvetica,sans-Serif\" font-size=\"14.00\" fill=\"#000000\">class = Yes</text>\n</g>\n<!-- 19&#45;&gt;21 -->\n<g id=\"edge21\" class=\"edge\">\n<title>19&#45;&gt;21</title>\n<path fill=\"none\" stroke=\"#000000\" d=\"M1344,-88.9777C1344,-80.7364 1344,-71.887 1344,-63.5153\"/>\n<polygon fill=\"#000000\" stroke=\"#000000\" points=\"1347.5001,-63.2484 1344,-53.2485 1340.5001,-63.2485 1347.5001,-63.2484\"/>\n</g>\n<!-- 23 -->\n<g id=\"node24\" class=\"node\">\n<title>23</title>\n<polygon fill=\"#f1bc96\" stroke=\"#000000\" points=\"1527.5,-53 1420.5,-53 1420.5,0 1527.5,0 1527.5,-53\"/>\n<text text-anchor=\"middle\" x=\"1474\" y=\"-37.8\" font-family=\"Helvetica,sans-Serif\" font-size=\"14.00\" fill=\"#000000\">samples = 25</text>\n<text text-anchor=\"middle\" x=\"1474\" y=\"-22.8\" font-family=\"Helvetica,sans-Serif\" font-size=\"14.00\" fill=\"#000000\">value = [17, 8]</text>\n<text text-anchor=\"middle\" x=\"1474\" y=\"-7.8\" font-family=\"Helvetica,sans-Serif\" font-size=\"14.00\" fill=\"#000000\">class = Yes</text>\n</g>\n<!-- 22&#45;&gt;23 -->\n<g id=\"edge23\" class=\"edge\">\n<title>22&#45;&gt;23</title>\n<path fill=\"none\" stroke=\"#000000\" d=\"M1537.4489,-88.9777C1528.0566,-79.7292 1517.8864,-69.7147 1508.4971,-60.4691\"/>\n<polygon fill=\"#000000\" stroke=\"#000000\" points=\"1510.7454,-57.7709 1501.1643,-53.2485 1505.8339,-62.7587 1510.7454,-57.7709\"/>\n</g>\n<!-- 24 -->\n<g id=\"node25\" class=\"node\">\n<title>24</title>\n<polygon fill=\"#a6d3f3\" stroke=\"#000000\" points=\"1670,-53 1546,-53 1546,0 1670,0 1670,-53\"/>\n<text text-anchor=\"middle\" x=\"1608\" y=\"-37.8\" font-family=\"Helvetica,sans-Serif\" font-size=\"14.00\" fill=\"#000000\">samples = 197</text>\n<text text-anchor=\"middle\" x=\"1608\" y=\"-22.8\" font-family=\"Helvetica,sans-Serif\" font-size=\"14.00\" fill=\"#000000\">value = [70, 127]</text>\n<text text-anchor=\"middle\" x=\"1608\" y=\"-7.8\" font-family=\"Helvetica,sans-Serif\" font-size=\"14.00\" fill=\"#000000\">class = No</text>\n</g>\n<!-- 22&#45;&gt;24 -->\n<g id=\"edge24\" class=\"edge\">\n<title>22&#45;&gt;24</title>\n<path fill=\"none\" stroke=\"#000000\" d=\"M1584.6923,-88.9777C1587.8692,-80.4617 1591.2884,-71.2963 1594.5029,-62.6798\"/>\n<polygon fill=\"#000000\" stroke=\"#000000\" points=\"1597.8052,-63.8411 1598.0213,-53.2485 1591.2467,-61.3944 1597.8052,-63.8411\"/>\n</g>\n<!-- 26 -->\n<g id=\"node27\" class=\"node\">\n<title>26</title>\n<polygon fill=\"#eeab7b\" stroke=\"#000000\" points=\"1859,-157 1697,-157 1697,-89 1859,-89 1859,-157\"/>\n<text text-anchor=\"middle\" x=\"1778\" y=\"-141.8\" font-family=\"Helvetica,sans-Serif\" font-size=\"14.00\" fill=\"#000000\">체중(5Kg 단위) &lt;= 42.5</text>\n<text text-anchor=\"middle\" x=\"1778\" y=\"-126.8\" font-family=\"Helvetica,sans-Serif\" font-size=\"14.00\" fill=\"#000000\">samples = 887</text>\n<text text-anchor=\"middle\" x=\"1778\" y=\"-111.8\" font-family=\"Helvetica,sans-Serif\" font-size=\"14.00\" fill=\"#000000\">value = [664, 223]</text>\n<text text-anchor=\"middle\" x=\"1778\" y=\"-96.8\" font-family=\"Helvetica,sans-Serif\" font-size=\"14.00\" fill=\"#000000\">class = Yes</text>\n</g>\n<!-- 25&#45;&gt;26 -->\n<g id=\"edge26\" class=\"edge\">\n<title>25&#45;&gt;26</title>\n<path fill=\"none\" stroke=\"#000000\" d=\"M1778,-192.9465C1778,-184.776 1778,-175.9318 1778,-167.3697\"/>\n<polygon fill=\"#000000\" stroke=\"#000000\" points=\"1781.5001,-167.13 1778,-157.13 1774.5001,-167.13 1781.5001,-167.13\"/>\n</g>\n<!-- 29 -->\n<g id=\"node30\" class=\"node\">\n<title>29</title>\n<polygon fill=\"#e89050\" stroke=\"#000000\" points=\"2116,-157 1936,-157 1936,-89 2116,-89 2116,-157\"/>\n<text text-anchor=\"middle\" x=\"2026\" y=\"-141.8\" font-family=\"Helvetica,sans-Serif\" font-size=\"14.00\" fill=\"#000000\">가입자일련번호 &lt;= 3985.5</text>\n<text text-anchor=\"middle\" x=\"2026\" y=\"-126.8\" font-family=\"Helvetica,sans-Serif\" font-size=\"14.00\" fill=\"#000000\">samples = 561</text>\n<text text-anchor=\"middle\" x=\"2026\" y=\"-111.8\" font-family=\"Helvetica,sans-Serif\" font-size=\"14.00\" fill=\"#000000\">value = [503, 58]</text>\n<text text-anchor=\"middle\" x=\"2026\" y=\"-96.8\" font-family=\"Helvetica,sans-Serif\" font-size=\"14.00\" fill=\"#000000\">class = Yes</text>\n</g>\n<!-- 25&#45;&gt;29 -->\n<g id=\"edge29\" class=\"edge\">\n<title>25&#45;&gt;29</title>\n<path fill=\"none\" stroke=\"#000000\" d=\"M1859.2045,-192.9465C1883.5052,-182.7559 1910.3054,-171.5171 1935.1822,-161.0849\"/>\n<polygon fill=\"#000000\" stroke=\"#000000\" points=\"1936.7447,-164.225 1944.6131,-157.13 1934.0376,-157.7696 1936.7447,-164.225\"/>\n</g>\n<!-- 27 -->\n<g id=\"node28\" class=\"node\">\n<title>27</title>\n<polygon fill=\"#e6853f\" stroke=\"#000000\" points=\"1795.5,-53 1688.5,-53 1688.5,0 1795.5,0 1795.5,-53\"/>\n<text text-anchor=\"middle\" x=\"1742\" y=\"-37.8\" font-family=\"Helvetica,sans-Serif\" font-size=\"14.00\" fill=\"#000000\">samples = 36</text>\n<text text-anchor=\"middle\" x=\"1742\" y=\"-22.8\" font-family=\"Helvetica,sans-Serif\" font-size=\"14.00\" fill=\"#000000\">value = [35, 1]</text>\n<text text-anchor=\"middle\" x=\"1742\" y=\"-7.8\" font-family=\"Helvetica,sans-Serif\" font-size=\"14.00\" fill=\"#000000\">class = Yes</text>\n</g>\n<!-- 26&#45;&gt;27 -->\n<g id=\"edge27\" class=\"edge\">\n<title>26&#45;&gt;27</title>\n<path fill=\"none\" stroke=\"#000000\" d=\"M1765.3077,-88.9777C1762.1308,-80.4617 1758.7116,-71.2963 1755.4971,-62.6798\"/>\n<polygon fill=\"#000000\" stroke=\"#000000\" points=\"1758.7533,-61.3944 1751.9787,-53.2485 1752.1948,-63.8411 1758.7533,-61.3944\"/>\n</g>\n<!-- 28 -->\n<g id=\"node29\" class=\"node\">\n<title>28</title>\n<polygon fill=\"#eead7f\" stroke=\"#000000\" points=\"1946,-53 1814,-53 1814,0 1946,0 1946,-53\"/>\n<text text-anchor=\"middle\" x=\"1880\" y=\"-37.8\" font-family=\"Helvetica,sans-Serif\" font-size=\"14.00\" fill=\"#000000\">samples = 851</text>\n<text text-anchor=\"middle\" x=\"1880\" y=\"-22.8\" font-family=\"Helvetica,sans-Serif\" font-size=\"14.00\" fill=\"#000000\">value = [629, 222]</text>\n<text text-anchor=\"middle\" x=\"1880\" y=\"-7.8\" font-family=\"Helvetica,sans-Serif\" font-size=\"14.00\" fill=\"#000000\">class = Yes</text>\n</g>\n<!-- 26&#45;&gt;28 -->\n<g id=\"edge28\" class=\"edge\">\n<title>26&#45;&gt;28</title>\n<path fill=\"none\" stroke=\"#000000\" d=\"M1813.9614,-88.9777C1823.8338,-79.6376 1834.532,-69.5163 1844.3849,-60.1947\"/>\n<polygon fill=\"#000000\" stroke=\"#000000\" points=\"1846.8682,-62.6635 1851.727,-53.2485 1842.0574,-57.5785 1846.8682,-62.6635\"/>\n</g>\n<!-- 30 -->\n<g id=\"node31\" class=\"node\">\n<title>30</title>\n<polygon fill=\"#ea985d\" stroke=\"#000000\" points=\"2088,-53 1964,-53 1964,0 2088,0 2088,-53\"/>\n<text text-anchor=\"middle\" x=\"2026\" y=\"-37.8\" font-family=\"Helvetica,sans-Serif\" font-size=\"14.00\" fill=\"#000000\">samples = 208</text>\n<text text-anchor=\"middle\" x=\"2026\" y=\"-22.8\" font-family=\"Helvetica,sans-Serif\" font-size=\"14.00\" fill=\"#000000\">value = [176, 32]</text>\n<text text-anchor=\"middle\" x=\"2026\" y=\"-7.8\" font-family=\"Helvetica,sans-Serif\" font-size=\"14.00\" fill=\"#000000\">class = Yes</text>\n</g>\n<!-- 29&#45;&gt;30 -->\n<g id=\"edge30\" class=\"edge\">\n<title>29&#45;&gt;30</title>\n<path fill=\"none\" stroke=\"#000000\" d=\"M2026,-88.9777C2026,-80.7364 2026,-71.887 2026,-63.5153\"/>\n<polygon fill=\"#000000\" stroke=\"#000000\" points=\"2029.5001,-63.2484 2026,-53.2485 2022.5001,-63.2485 2029.5001,-63.2484\"/>\n</g>\n<!-- 31 -->\n<g id=\"node32\" class=\"node\">\n<title>31</title>\n<polygon fill=\"#e78b49\" stroke=\"#000000\" points=\"2230,-53 2106,-53 2106,0 2230,0 2230,-53\"/>\n<text text-anchor=\"middle\" x=\"2168\" y=\"-37.8\" font-family=\"Helvetica,sans-Serif\" font-size=\"14.00\" fill=\"#000000\">samples = 353</text>\n<text text-anchor=\"middle\" x=\"2168\" y=\"-22.8\" font-family=\"Helvetica,sans-Serif\" font-size=\"14.00\" fill=\"#000000\">value = [327, 26]</text>\n<text text-anchor=\"middle\" x=\"2168\" y=\"-7.8\" font-family=\"Helvetica,sans-Serif\" font-size=\"14.00\" fill=\"#000000\">class = Yes</text>\n</g>\n<!-- 29&#45;&gt;31 -->\n<g id=\"edge31\" class=\"edge\">\n<title>29&#45;&gt;31</title>\n<path fill=\"none\" stroke=\"#000000\" d=\"M2076.0639,-88.9777C2090.3469,-79.2713 2105.8713,-68.7213 2120.0263,-59.1018\"/>\n<polygon fill=\"#000000\" stroke=\"#000000\" points=\"2122.3359,-61.764 2128.6395,-53.2485 2118.4014,-55.9744 2122.3359,-61.764\"/>\n</g>\n<!-- 33 -->\n<g id=\"node34\" class=\"node\">\n<title>33</title>\n<polygon fill=\"#cae5f8\" stroke=\"#000000\" points=\"2842,-365 2648,-365 2648,-297 2842,-297 2842,-365\"/>\n<text text-anchor=\"middle\" x=\"2745\" y=\"-349.8\" font-family=\"Helvetica,sans-Serif\" font-size=\"14.00\" fill=\"#000000\">연령대코드(5세단위) &lt;= 11.5</text>\n<text text-anchor=\"middle\" x=\"2745\" y=\"-334.8\" font-family=\"Helvetica,sans-Serif\" font-size=\"14.00\" fill=\"#000000\">samples = 383</text>\n<text text-anchor=\"middle\" x=\"2745\" y=\"-319.8\" font-family=\"Helvetica,sans-Serif\" font-size=\"14.00\" fill=\"#000000\">value = [162, 221]</text>\n<text text-anchor=\"middle\" x=\"2745\" y=\"-304.8\" font-family=\"Helvetica,sans-Serif\" font-size=\"14.00\" fill=\"#000000\">class = No</text>\n</g>\n<!-- 32&#45;&gt;33 -->\n<g id=\"edge33\" class=\"edge\">\n<title>32&#45;&gt;33</title>\n<path fill=\"none\" stroke=\"#000000\" d=\"M2745,-400.9465C2745,-392.776 2745,-383.9318 2745,-375.3697\"/>\n<polygon fill=\"#000000\" stroke=\"#000000\" points=\"2748.5001,-375.13 2745,-365.13 2741.5001,-375.13 2748.5001,-375.13\"/>\n</g>\n<!-- 48 -->\n<g id=\"node49\" class=\"node\">\n<title>48</title>\n<polygon fill=\"#64b2eb\" stroke=\"#000000\" points=\"3645,-365 3451,-365 3451,-297 3645,-297 3645,-365\"/>\n<text text-anchor=\"middle\" x=\"3548\" y=\"-349.8\" font-family=\"Helvetica,sans-Serif\" font-size=\"14.00\" fill=\"#000000\">연령대코드(5세단위) &lt;= 12.5</text>\n<text text-anchor=\"middle\" x=\"3548\" y=\"-334.8\" font-family=\"Helvetica,sans-Serif\" font-size=\"14.00\" fill=\"#000000\">samples = 2450</text>\n<text text-anchor=\"middle\" x=\"3548\" y=\"-319.8\" font-family=\"Helvetica,sans-Serif\" font-size=\"14.00\" fill=\"#000000\">value = [440, 2010]</text>\n<text text-anchor=\"middle\" x=\"3548\" y=\"-304.8\" font-family=\"Helvetica,sans-Serif\" font-size=\"14.00\" fill=\"#000000\">class = No</text>\n</g>\n<!-- 32&#45;&gt;48 -->\n<g id=\"edge48\" class=\"edge\">\n<title>32&#45;&gt;48</title>\n<path fill=\"none\" stroke=\"#000000\" d=\"M2815.2063,-425.9073C2956.015,-407.6705 3273.6867,-366.5275 3440.7253,-344.8936\"/>\n<polygon fill=\"#000000\" stroke=\"#000000\" points=\"3441.3033,-348.3481 3450.7709,-343.5926 3440.4042,-341.4061 3441.3033,-348.3481\"/>\n</g>\n<!-- 34 -->\n<g id=\"node35\" class=\"node\">\n<title>34</title>\n<polygon fill=\"#8fc8f0\" stroke=\"#000000\" points=\"2738,-261 2558,-261 2558,-193 2738,-193 2738,-261\"/>\n<text text-anchor=\"middle\" x=\"2648\" y=\"-245.8\" font-family=\"Helvetica,sans-Serif\" font-size=\"14.00\" fill=\"#000000\">가입자일련번호 &lt;= 9163.5</text>\n<text text-anchor=\"middle\" x=\"2648\" y=\"-230.8\" font-family=\"Helvetica,sans-Serif\" font-size=\"14.00\" fill=\"#000000\">samples = 175</text>\n<text text-anchor=\"middle\" x=\"2648\" y=\"-215.8\" font-family=\"Helvetica,sans-Serif\" font-size=\"14.00\" fill=\"#000000\">value = [53, 122]</text>\n<text text-anchor=\"middle\" x=\"2648\" y=\"-200.8\" font-family=\"Helvetica,sans-Serif\" font-size=\"14.00\" fill=\"#000000\">class = No</text>\n</g>\n<!-- 33&#45;&gt;34 -->\n<g id=\"edge34\" class=\"edge\">\n<title>33&#45;&gt;34</title>\n<path fill=\"none\" stroke=\"#000000\" d=\"M2713.2386,-296.9465C2704.7806,-287.8782 2695.5486,-277.9799 2686.7613,-268.5585\"/>\n<polygon fill=\"#000000\" stroke=\"#000000\" points=\"2689.213,-266.0557 2679.8328,-261.13 2684.094,-270.8302 2689.213,-266.0557\"/>\n</g>\n<!-- 41 -->\n<g id=\"node42\" class=\"node\">\n<title>41</title>\n<polygon fill=\"#fdf3ed\" stroke=\"#000000\" points=\"2920,-261 2796,-261 2796,-193 2920,-193 2920,-261\"/>\n<text text-anchor=\"middle\" x=\"2858\" y=\"-245.8\" font-family=\"Helvetica,sans-Serif\" font-size=\"14.00\" fill=\"#000000\">혈색소 &lt;= 12.45</text>\n<text text-anchor=\"middle\" x=\"2858\" y=\"-230.8\" font-family=\"Helvetica,sans-Serif\" font-size=\"14.00\" fill=\"#000000\">samples = 208</text>\n<text text-anchor=\"middle\" x=\"2858\" y=\"-215.8\" font-family=\"Helvetica,sans-Serif\" font-size=\"14.00\" fill=\"#000000\">value = [109, 99]</text>\n<text text-anchor=\"middle\" x=\"2858\" y=\"-200.8\" font-family=\"Helvetica,sans-Serif\" font-size=\"14.00\" fill=\"#000000\">class = Yes</text>\n</g>\n<!-- 33&#45;&gt;41 -->\n<g id=\"edge41\" class=\"edge\">\n<title>33&#45;&gt;41</title>\n<path fill=\"none\" stroke=\"#000000\" d=\"M2782.0004,-296.9465C2792.0486,-287.6986 2803.0347,-277.5876 2813.4526,-267.9994\"/>\n<polygon fill=\"#000000\" stroke=\"#000000\" points=\"2815.9286,-270.4773 2820.9164,-261.13 2811.1882,-265.3267 2815.9286,-270.4773\"/>\n</g>\n<!-- 35 -->\n<g id=\"node36\" class=\"node\">\n<title>35</title>\n<polygon fill=\"#7ebfee\" stroke=\"#000000\" points=\"2526,-157 2346,-157 2346,-89 2526,-89 2526,-157\"/>\n<text text-anchor=\"middle\" x=\"2436\" y=\"-141.8\" font-family=\"Helvetica,sans-Serif\" font-size=\"14.00\" fill=\"#000000\">가입자일련번호 &lt;= 6998.5</text>\n<text text-anchor=\"middle\" x=\"2436\" y=\"-126.8\" font-family=\"Helvetica,sans-Serif\" font-size=\"14.00\" fill=\"#000000\">samples = 155</text>\n<text text-anchor=\"middle\" x=\"2436\" y=\"-111.8\" font-family=\"Helvetica,sans-Serif\" font-size=\"14.00\" fill=\"#000000\">value = [40, 115]</text>\n<text text-anchor=\"middle\" x=\"2436\" y=\"-96.8\" font-family=\"Helvetica,sans-Serif\" font-size=\"14.00\" fill=\"#000000\">class = No</text>\n</g>\n<!-- 34&#45;&gt;35 -->\n<g id=\"edge35\" class=\"edge\">\n<title>34&#45;&gt;35</title>\n<path fill=\"none\" stroke=\"#000000\" d=\"M2578.5833,-192.9465C2558.1761,-182.9354 2535.707,-171.9129 2514.7603,-161.6371\"/>\n<polygon fill=\"#000000\" stroke=\"#000000\" points=\"2516.0921,-158.392 2505.5727,-157.13 2513.0091,-164.6766 2516.0921,-158.392\"/>\n</g>\n<!-- 38 -->\n<g id=\"node39\" class=\"node\">\n<title>38</title>\n<polygon fill=\"#f3c5a4\" stroke=\"#000000\" points=\"2741,-157 2555,-157 2555,-89 2741,-89 2741,-157\"/>\n<text text-anchor=\"middle\" x=\"2648\" y=\"-141.8\" font-family=\"Helvetica,sans-Serif\" font-size=\"14.00\" fill=\"#000000\">연령대코드(5세단위) &lt;= 9.5</text>\n<text text-anchor=\"middle\" x=\"2648\" y=\"-126.8\" font-family=\"Helvetica,sans-Serif\" font-size=\"14.00\" fill=\"#000000\">samples = 20</text>\n<text text-anchor=\"middle\" x=\"2648\" y=\"-111.8\" font-family=\"Helvetica,sans-Serif\" font-size=\"14.00\" fill=\"#000000\">value = [13, 7]</text>\n<text text-anchor=\"middle\" x=\"2648\" y=\"-96.8\" font-family=\"Helvetica,sans-Serif\" font-size=\"14.00\" fill=\"#000000\">class = Yes</text>\n</g>\n<!-- 34&#45;&gt;38 -->\n<g id=\"edge38\" class=\"edge\">\n<title>34&#45;&gt;38</title>\n<path fill=\"none\" stroke=\"#000000\" d=\"M2648,-192.9465C2648,-184.776 2648,-175.9318 2648,-167.3697\"/>\n<polygon fill=\"#000000\" stroke=\"#000000\" points=\"2651.5001,-167.13 2648,-157.13 2644.5001,-167.13 2651.5001,-167.13\"/>\n</g>\n<!-- 36 -->\n<g id=\"node37\" class=\"node\">\n<title>36</title>\n<polygon fill=\"#98ccf2\" stroke=\"#000000\" points=\"2364,-53 2248,-53 2248,0 2364,0 2364,-53\"/>\n<text text-anchor=\"middle\" x=\"2306\" y=\"-37.8\" font-family=\"Helvetica,sans-Serif\" font-size=\"14.00\" fill=\"#000000\">samples = 120</text>\n<text text-anchor=\"middle\" x=\"2306\" y=\"-22.8\" font-family=\"Helvetica,sans-Serif\" font-size=\"14.00\" fill=\"#000000\">value = [39, 81]</text>\n<text text-anchor=\"middle\" x=\"2306\" y=\"-7.8\" font-family=\"Helvetica,sans-Serif\" font-size=\"14.00\" fill=\"#000000\">class = No</text>\n</g>\n<!-- 35&#45;&gt;36 -->\n<g id=\"edge36\" class=\"edge\">\n<title>35&#45;&gt;36</title>\n<path fill=\"none\" stroke=\"#000000\" d=\"M2390.1669,-88.9777C2377.2143,-79.3629 2363.1465,-68.9203 2350.2867,-59.3743\"/>\n<polygon fill=\"#000000\" stroke=\"#000000\" points=\"2352.1499,-56.3986 2342.0342,-53.2485 2347.9776,-62.0193 2352.1499,-56.3986\"/>\n</g>\n<!-- 37 -->\n<g id=\"node38\" class=\"node\">\n<title>37</title>\n<polygon fill=\"#3fa0e6\" stroke=\"#000000\" points=\"2489.5,-53 2382.5,-53 2382.5,0 2489.5,0 2489.5,-53\"/>\n<text text-anchor=\"middle\" x=\"2436\" y=\"-37.8\" font-family=\"Helvetica,sans-Serif\" font-size=\"14.00\" fill=\"#000000\">samples = 35</text>\n<text text-anchor=\"middle\" x=\"2436\" y=\"-22.8\" font-family=\"Helvetica,sans-Serif\" font-size=\"14.00\" fill=\"#000000\">value = [1, 34]</text>\n<text text-anchor=\"middle\" x=\"2436\" y=\"-7.8\" font-family=\"Helvetica,sans-Serif\" font-size=\"14.00\" fill=\"#000000\">class = No</text>\n</g>\n<!-- 35&#45;&gt;37 -->\n<g id=\"edge37\" class=\"edge\">\n<title>35&#45;&gt;37</title>\n<path fill=\"none\" stroke=\"#000000\" d=\"M2436,-88.9777C2436,-80.7364 2436,-71.887 2436,-63.5153\"/>\n<polygon fill=\"#000000\" stroke=\"#000000\" points=\"2439.5001,-63.2484 2436,-53.2485 2432.5001,-63.2485 2439.5001,-63.2484\"/>\n</g>\n<!-- 39 -->\n<g id=\"node40\" class=\"node\">\n<title>39</title>\n<polygon fill=\"#bddef6\" stroke=\"#000000\" points=\"2612,-53 2508,-53 2508,0 2612,0 2612,-53\"/>\n<text text-anchor=\"middle\" x=\"2560\" y=\"-37.8\" font-family=\"Helvetica,sans-Serif\" font-size=\"14.00\" fill=\"#000000\">samples = 10</text>\n<text text-anchor=\"middle\" x=\"2560\" y=\"-22.8\" font-family=\"Helvetica,sans-Serif\" font-size=\"14.00\" fill=\"#000000\">value = [4, 6]</text>\n<text text-anchor=\"middle\" x=\"2560\" y=\"-7.8\" font-family=\"Helvetica,sans-Serif\" font-size=\"14.00\" fill=\"#000000\">class = No</text>\n</g>\n<!-- 38&#45;&gt;39 -->\n<g id=\"edge39\" class=\"edge\">\n<title>38&#45;&gt;39</title>\n<path fill=\"none\" stroke=\"#000000\" d=\"M2616.9745,-88.9777C2608.6241,-79.8207 2599.589,-69.9129 2591.2276,-60.744\"/>\n<polygon fill=\"#000000\" stroke=\"#000000\" points=\"2593.7167,-58.2791 2584.3924,-53.2485 2588.5444,-62.9959 2593.7167,-58.2791\"/>\n</g>\n<!-- 40 -->\n<g id=\"node41\" class=\"node\">\n<title>40</title>\n<polygon fill=\"#e88f4f\" stroke=\"#000000\" points=\"2734,-53 2630,-53 2630,0 2734,0 2734,-53\"/>\n<text text-anchor=\"middle\" x=\"2682\" y=\"-37.8\" font-family=\"Helvetica,sans-Serif\" font-size=\"14.00\" fill=\"#000000\">samples = 10</text>\n<text text-anchor=\"middle\" x=\"2682\" y=\"-22.8\" font-family=\"Helvetica,sans-Serif\" font-size=\"14.00\" fill=\"#000000\">value = [9, 1]</text>\n<text text-anchor=\"middle\" x=\"2682\" y=\"-7.8\" font-family=\"Helvetica,sans-Serif\" font-size=\"14.00\" fill=\"#000000\">class = Yes</text>\n</g>\n<!-- 38&#45;&gt;40 -->\n<g id=\"edge40\" class=\"edge\">\n<title>38&#45;&gt;40</title>\n<path fill=\"none\" stroke=\"#000000\" d=\"M2659.9871,-88.9777C2662.9553,-80.5533 2666.1474,-71.4934 2669.1547,-62.9579\"/>\n<polygon fill=\"#000000\" stroke=\"#000000\" points=\"2672.5536,-63.8433 2672.5757,-53.2485 2665.9514,-61.5171 2672.5536,-63.8433\"/>\n</g>\n<!-- 42 -->\n<g id=\"node43\" class=\"node\">\n<title>42</title>\n<polygon fill=\"#eda978\" stroke=\"#000000\" points=\"2951,-157 2765,-157 2765,-89 2951,-89 2951,-157\"/>\n<text text-anchor=\"middle\" x=\"2858\" y=\"-141.8\" font-family=\"Helvetica,sans-Serif\" font-size=\"14.00\" fill=\"#000000\">식전혈당(공복혈당) &lt;= 92.5</text>\n<text text-anchor=\"middle\" x=\"2858\" y=\"-126.8\" font-family=\"Helvetica,sans-Serif\" font-size=\"14.00\" fill=\"#000000\">samples = 33</text>\n<text text-anchor=\"middle\" x=\"2858\" y=\"-111.8\" font-family=\"Helvetica,sans-Serif\" font-size=\"14.00\" fill=\"#000000\">value = [25, 8]</text>\n<text text-anchor=\"middle\" x=\"2858\" y=\"-96.8\" font-family=\"Helvetica,sans-Serif\" font-size=\"14.00\" fill=\"#000000\">class = Yes</text>\n</g>\n<!-- 41&#45;&gt;42 -->\n<g id=\"edge42\" class=\"edge\">\n<title>41&#45;&gt;42</title>\n<path fill=\"none\" stroke=\"#000000\" d=\"M2858,-192.9465C2858,-184.776 2858,-175.9318 2858,-167.3697\"/>\n<polygon fill=\"#000000\" stroke=\"#000000\" points=\"2861.5001,-167.13 2858,-157.13 2854.5001,-167.13 2861.5001,-167.13\"/>\n</g>\n<!-- 45 -->\n<g id=\"node46\" class=\"node\">\n<title>45</title>\n<polygon fill=\"#f0f7fd\" stroke=\"#000000\" points=\"3147,-157 2975,-157 2975,-89 3147,-89 3147,-157\"/>\n<text text-anchor=\"middle\" x=\"3061\" y=\"-141.8\" font-family=\"Helvetica,sans-Serif\" font-size=\"14.00\" fill=\"#000000\">(혈청지오티)ALT &lt;= 21.5</text>\n<text text-anchor=\"middle\" x=\"3061\" y=\"-126.8\" font-family=\"Helvetica,sans-Serif\" font-size=\"14.00\" fill=\"#000000\">samples = 175</text>\n<text text-anchor=\"middle\" x=\"3061\" y=\"-111.8\" font-family=\"Helvetica,sans-Serif\" font-size=\"14.00\" fill=\"#000000\">value = [84, 91]</text>\n<text text-anchor=\"middle\" x=\"3061\" y=\"-96.8\" font-family=\"Helvetica,sans-Serif\" font-size=\"14.00\" fill=\"#000000\">class = No</text>\n</g>\n<!-- 41&#45;&gt;45 -->\n<g id=\"edge45\" class=\"edge\">\n<title>41&#45;&gt;45</title>\n<path fill=\"none\" stroke=\"#000000\" d=\"M2920.0097,-195.2315C2940.6186,-184.6732 2963.8007,-172.7967 2985.3235,-161.7702\"/>\n<polygon fill=\"#000000\" stroke=\"#000000\" points=\"2987.1295,-164.7777 2994.4336,-157.103 2983.9377,-158.5476 2987.1295,-164.7777\"/>\n</g>\n<!-- 43 -->\n<g id=\"node44\" class=\"node\">\n<title>43</title>\n<polygon fill=\"#f6d5bd\" stroke=\"#000000\" points=\"2859.5,-53 2752.5,-53 2752.5,0 2859.5,0 2859.5,-53\"/>\n<text text-anchor=\"middle\" x=\"2806\" y=\"-37.8\" font-family=\"Helvetica,sans-Serif\" font-size=\"14.00\" fill=\"#000000\">samples = 20</text>\n<text text-anchor=\"middle\" x=\"2806\" y=\"-22.8\" font-family=\"Helvetica,sans-Serif\" font-size=\"14.00\" fill=\"#000000\">value = [12, 8]</text>\n<text text-anchor=\"middle\" x=\"2806\" y=\"-7.8\" font-family=\"Helvetica,sans-Serif\" font-size=\"14.00\" fill=\"#000000\">class = Yes</text>\n</g>\n<!-- 42&#45;&gt;43 -->\n<g id=\"edge43\" class=\"edge\">\n<title>42&#45;&gt;43</title>\n<path fill=\"none\" stroke=\"#000000\" d=\"M2839.6667,-88.9777C2834.9791,-80.2786 2829.9264,-70.9018 2825.1967,-62.1247\"/>\n<polygon fill=\"#000000\" stroke=\"#000000\" points=\"2828.2386,-60.3914 2820.4137,-53.2485 2822.0763,-63.7121 2828.2386,-60.3914\"/>\n</g>\n<!-- 44 -->\n<g id=\"node45\" class=\"node\">\n<title>44</title>\n<polygon fill=\"#e58139\" stroke=\"#000000\" points=\"2984.5,-53 2877.5,-53 2877.5,0 2984.5,0 2984.5,-53\"/>\n<text text-anchor=\"middle\" x=\"2931\" y=\"-37.8\" font-family=\"Helvetica,sans-Serif\" font-size=\"14.00\" fill=\"#000000\">samples = 13</text>\n<text text-anchor=\"middle\" x=\"2931\" y=\"-22.8\" font-family=\"Helvetica,sans-Serif\" font-size=\"14.00\" fill=\"#000000\">value = [13, 0]</text>\n<text text-anchor=\"middle\" x=\"2931\" y=\"-7.8\" font-family=\"Helvetica,sans-Serif\" font-size=\"14.00\" fill=\"#000000\">class = Yes</text>\n</g>\n<!-- 42&#45;&gt;44 -->\n<g id=\"edge44\" class=\"edge\">\n<title>42&#45;&gt;44</title>\n<path fill=\"none\" stroke=\"#000000\" d=\"M2883.7371,-88.9777C2890.5256,-80.0039 2897.8596,-70.3089 2904.6784,-61.295\"/>\n<polygon fill=\"#000000\" stroke=\"#000000\" points=\"2907.5237,-63.3352 2910.7654,-53.2485 2901.941,-59.1121 2907.5237,-63.3352\"/>\n</g>\n<!-- 46 -->\n<g id=\"node47\" class=\"node\">\n<title>46</title>\n<polygon fill=\"#b6dbf5\" stroke=\"#000000\" points=\"3119,-53 3003,-53 3003,0 3119,0 3119,-53\"/>\n<text text-anchor=\"middle\" x=\"3061\" y=\"-37.8\" font-family=\"Helvetica,sans-Serif\" font-size=\"14.00\" fill=\"#000000\">samples = 111</text>\n<text text-anchor=\"middle\" x=\"3061\" y=\"-22.8\" font-family=\"Helvetica,sans-Serif\" font-size=\"14.00\" fill=\"#000000\">value = [43, 68]</text>\n<text text-anchor=\"middle\" x=\"3061\" y=\"-7.8\" font-family=\"Helvetica,sans-Serif\" font-size=\"14.00\" fill=\"#000000\">class = No</text>\n</g>\n<!-- 45&#45;&gt;46 -->\n<g id=\"edge46\" class=\"edge\">\n<title>45&#45;&gt;46</title>\n<path fill=\"none\" stroke=\"#000000\" d=\"M3061,-88.9777C3061,-80.7364 3061,-71.887 3061,-63.5153\"/>\n<polygon fill=\"#000000\" stroke=\"#000000\" points=\"3064.5001,-63.2484 3061,-53.2485 3057.5001,-63.2485 3064.5001,-63.2484\"/>\n</g>\n<!-- 47 -->\n<g id=\"node48\" class=\"node\">\n<title>47</title>\n<polygon fill=\"#f4c8a8\" stroke=\"#000000\" points=\"3253,-53 3137,-53 3137,0 3253,0 3253,-53\"/>\n<text text-anchor=\"middle\" x=\"3195\" y=\"-37.8\" font-family=\"Helvetica,sans-Serif\" font-size=\"14.00\" fill=\"#000000\">samples = 64</text>\n<text text-anchor=\"middle\" x=\"3195\" y=\"-22.8\" font-family=\"Helvetica,sans-Serif\" font-size=\"14.00\" fill=\"#000000\">value = [41, 23]</text>\n<text text-anchor=\"middle\" x=\"3195\" y=\"-7.8\" font-family=\"Helvetica,sans-Serif\" font-size=\"14.00\" fill=\"#000000\">class = Yes</text>\n</g>\n<!-- 45&#45;&gt;47 -->\n<g id=\"edge47\" class=\"edge\">\n<title>45&#45;&gt;47</title>\n<path fill=\"none\" stroke=\"#000000\" d=\"M3108.2434,-88.9777C3121.7217,-79.2713 3136.3715,-68.7213 3149.7291,-59.1018\"/>\n<polygon fill=\"#000000\" stroke=\"#000000\" points=\"3151.7876,-61.9325 3157.857,-53.2485 3147.6969,-56.2522 3151.7876,-61.9325\"/>\n</g>\n<!-- 49 -->\n<g id=\"node50\" class=\"node\">\n<title>49</title>\n<polygon fill=\"#58ace9\" stroke=\"#000000\" points=\"3618,-261 3478,-261 3478,-193 3618,-193 3618,-261\"/>\n<text text-anchor=\"middle\" x=\"3548\" y=\"-245.8\" font-family=\"Helvetica,sans-Serif\" font-size=\"14.00\" fill=\"#000000\">감마지티피 &lt;= 42.5</text>\n<text text-anchor=\"middle\" x=\"3548\" y=\"-230.8\" font-family=\"Helvetica,sans-Serif\" font-size=\"14.00\" fill=\"#000000\">samples = 1740</text>\n<text text-anchor=\"middle\" x=\"3548\" y=\"-215.8\" font-family=\"Helvetica,sans-Serif\" font-size=\"14.00\" fill=\"#000000\">value = [235, 1505]</text>\n<text text-anchor=\"middle\" x=\"3548\" y=\"-200.8\" font-family=\"Helvetica,sans-Serif\" font-size=\"14.00\" fill=\"#000000\">class = No</text>\n</g>\n<!-- 48&#45;&gt;49 -->\n<g id=\"edge49\" class=\"edge\">\n<title>48&#45;&gt;49</title>\n<path fill=\"none\" stroke=\"#000000\" d=\"M3548,-296.9465C3548,-288.776 3548,-279.9318 3548,-271.3697\"/>\n<polygon fill=\"#000000\" stroke=\"#000000\" points=\"3551.5001,-271.13 3548,-261.13 3544.5001,-271.13 3551.5001,-271.13\"/>\n</g>\n<!-- 56 -->\n<g id=\"node57\" class=\"node\">\n<title>56</title>\n<polygon fill=\"#89c5f0\" stroke=\"#000000\" points=\"3978.5,-261 3841.5,-261 3841.5,-193 3978.5,-193 3978.5,-261\"/>\n<text text-anchor=\"middle\" x=\"3910\" y=\"-245.8\" font-family=\"Helvetica,sans-Serif\" font-size=\"14.00\" fill=\"#000000\">감마지티피 &lt;= 82.5</text>\n<text text-anchor=\"middle\" x=\"3910\" y=\"-230.8\" font-family=\"Helvetica,sans-Serif\" font-size=\"14.00\" fill=\"#000000\">samples = 710</text>\n<text text-anchor=\"middle\" x=\"3910\" y=\"-215.8\" font-family=\"Helvetica,sans-Serif\" font-size=\"14.00\" fill=\"#000000\">value = [205, 505]</text>\n<text text-anchor=\"middle\" x=\"3910\" y=\"-200.8\" font-family=\"Helvetica,sans-Serif\" font-size=\"14.00\" fill=\"#000000\">class = No</text>\n</g>\n<!-- 48&#45;&gt;56 -->\n<g id=\"edge56\" class=\"edge\">\n<title>48&#45;&gt;56</title>\n<path fill=\"none\" stroke=\"#000000\" d=\"M3645.0094,-303.1299C3703.4897,-286.3289 3777.0006,-265.2098 3831.753,-249.4798\"/>\n<polygon fill=\"#000000\" stroke=\"#000000\" points=\"3832.7603,-252.8321 3841.4051,-246.7068 3830.8274,-246.1042 3832.7603,-252.8321\"/>\n</g>\n<!-- 50 -->\n<g id=\"node51\" class=\"node\">\n<title>50</title>\n<polygon fill=\"#66b3eb\" stroke=\"#000000\" points=\"3543,-157 3363,-157 3363,-89 3543,-89 3543,-157\"/>\n<text text-anchor=\"middle\" x=\"3453\" y=\"-141.8\" font-family=\"Helvetica,sans-Serif\" font-size=\"14.00\" fill=\"#000000\">가입자일련번호 &lt;= 9571.5</text>\n<text text-anchor=\"middle\" x=\"3453\" y=\"-126.8\" font-family=\"Helvetica,sans-Serif\" font-size=\"14.00\" fill=\"#000000\">samples = 954</text>\n<text text-anchor=\"middle\" x=\"3453\" y=\"-111.8\" font-family=\"Helvetica,sans-Serif\" font-size=\"14.00\" fill=\"#000000\">value = [178, 776]</text>\n<text text-anchor=\"middle\" x=\"3453\" y=\"-96.8\" font-family=\"Helvetica,sans-Serif\" font-size=\"14.00\" fill=\"#000000\">class = No</text>\n</g>\n<!-- 49&#45;&gt;50 -->\n<g id=\"edge50\" class=\"edge\">\n<title>49&#45;&gt;50</title>\n<path fill=\"none\" stroke=\"#000000\" d=\"M3516.8934,-192.9465C3508.6099,-183.8782 3499.5682,-173.9799 3490.9621,-164.5585\"/>\n<polygon fill=\"#000000\" stroke=\"#000000\" points=\"3493.505,-162.1528 3484.1764,-157.13 3488.3367,-166.8739 3493.505,-162.1528\"/>\n</g>\n<!-- 53 -->\n<g id=\"node54\" class=\"node\">\n<title>53</title>\n<polygon fill=\"#48a5e7\" stroke=\"#000000\" points=\"3725,-157 3561,-157 3561,-89 3725,-89 3725,-157\"/>\n<text text-anchor=\"middle\" x=\"3643\" y=\"-141.8\" font-family=\"Helvetica,sans-Serif\" font-size=\"14.00\" fill=\"#000000\">혈청크레아티닌 &lt;= 1.55</text>\n<text text-anchor=\"middle\" x=\"3643\" y=\"-126.8\" font-family=\"Helvetica,sans-Serif\" font-size=\"14.00\" fill=\"#000000\">samples = 786</text>\n<text text-anchor=\"middle\" x=\"3643\" y=\"-111.8\" font-family=\"Helvetica,sans-Serif\" font-size=\"14.00\" fill=\"#000000\">value = [57, 729]</text>\n<text text-anchor=\"middle\" x=\"3643\" y=\"-96.8\" font-family=\"Helvetica,sans-Serif\" font-size=\"14.00\" fill=\"#000000\">class = No</text>\n</g>\n<!-- 49&#45;&gt;53 -->\n<g id=\"edge53\" class=\"edge\">\n<title>49&#45;&gt;53</title>\n<path fill=\"none\" stroke=\"#000000\" d=\"M3579.1066,-192.9465C3587.3901,-183.8782 3596.4318,-173.9799 3605.0379,-164.5585\"/>\n<polygon fill=\"#000000\" stroke=\"#000000\" points=\"3607.6633,-166.8739 3611.8236,-157.13 3602.495,-162.1528 3607.6633,-166.8739\"/>\n</g>\n<!-- 51 -->\n<g id=\"node52\" class=\"node\">\n<title>51</title>\n<polygon fill=\"#63b2eb\" stroke=\"#000000\" points=\"3403,-53 3271,-53 3271,0 3403,0 3403,-53\"/>\n<text text-anchor=\"middle\" x=\"3337\" y=\"-37.8\" font-family=\"Helvetica,sans-Serif\" font-size=\"14.00\" fill=\"#000000\">samples = 897</text>\n<text text-anchor=\"middle\" x=\"3337\" y=\"-22.8\" font-family=\"Helvetica,sans-Serif\" font-size=\"14.00\" fill=\"#000000\">value = [157, 740]</text>\n<text text-anchor=\"middle\" x=\"3337\" y=\"-7.8\" font-family=\"Helvetica,sans-Serif\" font-size=\"14.00\" fill=\"#000000\">class = No</text>\n</g>\n<!-- 50&#45;&gt;51 -->\n<g id=\"edge51\" class=\"edge\">\n<title>50&#45;&gt;51</title>\n<path fill=\"none\" stroke=\"#000000\" d=\"M3412.1027,-88.9777C3400.6551,-79.4545 3388.2313,-69.1191 3376.8455,-59.6473\"/>\n<polygon fill=\"#000000\" stroke=\"#000000\" points=\"3379.0797,-56.9532 3369.1536,-53.2485 3374.6029,-62.3345 3379.0797,-56.9532\"/>\n</g>\n<!-- 52 -->\n<g id=\"node53\" class=\"node\">\n<title>52</title>\n<polygon fill=\"#acd6f4\" stroke=\"#000000\" points=\"3537,-53 3421,-53 3421,0 3537,0 3537,-53\"/>\n<text text-anchor=\"middle\" x=\"3479\" y=\"-37.8\" font-family=\"Helvetica,sans-Serif\" font-size=\"14.00\" fill=\"#000000\">samples = 57</text>\n<text text-anchor=\"middle\" x=\"3479\" y=\"-22.8\" font-family=\"Helvetica,sans-Serif\" font-size=\"14.00\" fill=\"#000000\">value = [21, 36]</text>\n<text text-anchor=\"middle\" x=\"3479\" y=\"-7.8\" font-family=\"Helvetica,sans-Serif\" font-size=\"14.00\" fill=\"#000000\">class = No</text>\n</g>\n<!-- 50&#45;&gt;52 -->\n<g id=\"edge52\" class=\"edge\">\n<title>50&#45;&gt;52</title>\n<path fill=\"none\" stroke=\"#000000\" d=\"M3462.1666,-88.9777C3464.4364,-80.5533 3466.8774,-71.4934 3469.1771,-62.9579\"/>\n<polygon fill=\"#000000\" stroke=\"#000000\" points=\"3472.571,-63.8147 3471.7932,-53.2485 3465.8121,-61.9936 3472.571,-63.8147\"/>\n</g>\n<!-- 54 -->\n<g id=\"node55\" class=\"node\">\n<title>54</title>\n<polygon fill=\"#48a4e7\" stroke=\"#000000\" points=\"3679,-53 3555,-53 3555,0 3679,0 3679,-53\"/>\n<text text-anchor=\"middle\" x=\"3617\" y=\"-37.8\" font-family=\"Helvetica,sans-Serif\" font-size=\"14.00\" fill=\"#000000\">samples = 782</text>\n<text text-anchor=\"middle\" x=\"3617\" y=\"-22.8\" font-family=\"Helvetica,sans-Serif\" font-size=\"14.00\" fill=\"#000000\">value = [54, 728]</text>\n<text text-anchor=\"middle\" x=\"3617\" y=\"-7.8\" font-family=\"Helvetica,sans-Serif\" font-size=\"14.00\" fill=\"#000000\">class = No</text>\n</g>\n<!-- 53&#45;&gt;54 -->\n<g id=\"edge54\" class=\"edge\">\n<title>53&#45;&gt;54</title>\n<path fill=\"none\" stroke=\"#000000\" d=\"M3633.8334,-88.9777C3631.5636,-80.5533 3629.1226,-71.4934 3626.8229,-62.9579\"/>\n<polygon fill=\"#000000\" stroke=\"#000000\" points=\"3630.1879,-61.9936 3624.2068,-53.2485 3623.429,-63.8147 3630.1879,-61.9936\"/>\n</g>\n<!-- 55 -->\n<g id=\"node56\" class=\"node\">\n<title>55</title>\n<polygon fill=\"#eeab7b\" stroke=\"#000000\" points=\"3796.5,-53 3697.5,-53 3697.5,0 3796.5,0 3796.5,-53\"/>\n<text text-anchor=\"middle\" x=\"3747\" y=\"-37.8\" font-family=\"Helvetica,sans-Serif\" font-size=\"14.00\" fill=\"#000000\">samples = 4</text>\n<text text-anchor=\"middle\" x=\"3747\" y=\"-22.8\" font-family=\"Helvetica,sans-Serif\" font-size=\"14.00\" fill=\"#000000\">value = [3, 1]</text>\n<text text-anchor=\"middle\" x=\"3747\" y=\"-7.8\" font-family=\"Helvetica,sans-Serif\" font-size=\"14.00\" fill=\"#000000\">class = Yes</text>\n</g>\n<!-- 53&#45;&gt;55 -->\n<g id=\"edge55\" class=\"edge\">\n<title>53&#45;&gt;55</title>\n<path fill=\"none\" stroke=\"#000000\" d=\"M3679.6665,-88.9777C3689.7325,-79.6376 3700.6404,-69.5163 3710.6865,-60.1947\"/>\n<polygon fill=\"#000000\" stroke=\"#000000\" points=\"3713.2228,-62.616 3718.1726,-53.2485 3708.4615,-57.4847 3713.2228,-62.616\"/>\n</g>\n<!-- 57 -->\n<g id=\"node58\" class=\"node\">\n<title>57</title>\n<polygon fill=\"#95caf1\" stroke=\"#000000\" points=\"3995.5,-157 3824.5,-157 3824.5,-89 3995.5,-89 3995.5,-157\"/>\n<text text-anchor=\"middle\" x=\"3910\" y=\"-141.8\" font-family=\"Helvetica,sans-Serif\" font-size=\"14.00\" fill=\"#000000\">신장(5Cm단위) &lt;= 147.5</text>\n<text text-anchor=\"middle\" x=\"3910\" y=\"-126.8\" font-family=\"Helvetica,sans-Serif\" font-size=\"14.00\" fill=\"#000000\">samples = 626</text>\n<text text-anchor=\"middle\" x=\"3910\" y=\"-111.8\" font-family=\"Helvetica,sans-Serif\" font-size=\"14.00\" fill=\"#000000\">value = [198, 428]</text>\n<text text-anchor=\"middle\" x=\"3910\" y=\"-96.8\" font-family=\"Helvetica,sans-Serif\" font-size=\"14.00\" fill=\"#000000\">class = No</text>\n</g>\n<!-- 56&#45;&gt;57 -->\n<g id=\"edge57\" class=\"edge\">\n<title>56&#45;&gt;57</title>\n<path fill=\"none\" stroke=\"#000000\" d=\"M3910,-192.9465C3910,-184.776 3910,-175.9318 3910,-167.3697\"/>\n<polygon fill=\"#000000\" stroke=\"#000000\" points=\"3913.5001,-167.13 3910,-157.13 3906.5001,-167.13 3913.5001,-167.13\"/>\n</g>\n<!-- 60 -->\n<g id=\"node61\" class=\"node\">\n<title>60</title>\n<polygon fill=\"#4ba6e7\" stroke=\"#000000\" points=\"4204.5,-157 4059.5,-157 4059.5,-89 4204.5,-89 4204.5,-157\"/>\n<text text-anchor=\"middle\" x=\"4132\" y=\"-141.8\" font-family=\"Helvetica,sans-Serif\" font-size=\"14.00\" fill=\"#000000\">수축기혈압 &lt;= 111.0</text>\n<text text-anchor=\"middle\" x=\"4132\" y=\"-126.8\" font-family=\"Helvetica,sans-Serif\" font-size=\"14.00\" fill=\"#000000\">samples = 84</text>\n<text text-anchor=\"middle\" x=\"4132\" y=\"-111.8\" font-family=\"Helvetica,sans-Serif\" font-size=\"14.00\" fill=\"#000000\">value = [7, 77]</text>\n<text text-anchor=\"middle\" x=\"4132\" y=\"-96.8\" font-family=\"Helvetica,sans-Serif\" font-size=\"14.00\" fill=\"#000000\">class = No</text>\n</g>\n<!-- 56&#45;&gt;60 -->\n<g id=\"edge60\" class=\"edge\">\n<title>56&#45;&gt;60</title>\n<path fill=\"none\" stroke=\"#000000\" d=\"M3978.7219,-194.806C4001.3181,-184.2203 4026.6625,-172.3473 4050.1361,-161.3506\"/>\n<polygon fill=\"#000000\" stroke=\"#000000\" points=\"4051.8035,-164.4346 4059.3743,-157.0228 4048.8339,-158.0957 4051.8035,-164.4346\"/>\n</g>\n<!-- 58 -->\n<g id=\"node59\" class=\"node\">\n<title>58</title>\n<polygon fill=\"#e58139\" stroke=\"#000000\" points=\"3913.5,-53 3814.5,-53 3814.5,0 3913.5,0 3913.5,-53\"/>\n<text text-anchor=\"middle\" x=\"3864\" y=\"-37.8\" font-family=\"Helvetica,sans-Serif\" font-size=\"14.00\" fill=\"#000000\">samples = 5</text>\n<text text-anchor=\"middle\" x=\"3864\" y=\"-22.8\" font-family=\"Helvetica,sans-Serif\" font-size=\"14.00\" fill=\"#000000\">value = [5, 0]</text>\n<text text-anchor=\"middle\" x=\"3864\" y=\"-7.8\" font-family=\"Helvetica,sans-Serif\" font-size=\"14.00\" fill=\"#000000\">class = Yes</text>\n</g>\n<!-- 57&#45;&gt;58 -->\n<g id=\"edge58\" class=\"edge\">\n<title>57&#45;&gt;58</title>\n<path fill=\"none\" stroke=\"#000000\" d=\"M3893.7821,-88.9777C3889.679,-80.3702 3885.2597,-71.0992 3881.1139,-62.402\"/>\n<polygon fill=\"#000000\" stroke=\"#000000\" points=\"3884.213,-60.7693 3876.7506,-53.2485 3877.8942,-63.7814 3884.213,-60.7693\"/>\n</g>\n<!-- 59 -->\n<g id=\"node60\" class=\"node\">\n<title>59</title>\n<polygon fill=\"#92c9f1\" stroke=\"#000000\" points=\"4064,-53 3932,-53 3932,0 4064,0 4064,-53\"/>\n<text text-anchor=\"middle\" x=\"3998\" y=\"-37.8\" font-family=\"Helvetica,sans-Serif\" font-size=\"14.00\" fill=\"#000000\">samples = 621</text>\n<text text-anchor=\"middle\" x=\"3998\" y=\"-22.8\" font-family=\"Helvetica,sans-Serif\" font-size=\"14.00\" fill=\"#000000\">value = [193, 428]</text>\n<text text-anchor=\"middle\" x=\"3998\" y=\"-7.8\" font-family=\"Helvetica,sans-Serif\" font-size=\"14.00\" fill=\"#000000\">class = No</text>\n</g>\n<!-- 57&#45;&gt;59 -->\n<g id=\"edge59\" class=\"edge\">\n<title>57&#45;&gt;59</title>\n<path fill=\"none\" stroke=\"#000000\" d=\"M3941.0255,-88.9777C3949.3759,-79.8207 3958.411,-69.9129 3966.7724,-60.744\"/>\n<polygon fill=\"#000000\" stroke=\"#000000\" points=\"3969.4556,-62.9959 3973.6076,-53.2485 3964.2833,-58.2791 3969.4556,-62.9959\"/>\n</g>\n<!-- 61 -->\n<g id=\"node62\" class=\"node\">\n<title>61</title>\n<polygon fill=\"#cee6f8\" stroke=\"#000000\" points=\"4181.5,-53 4082.5,-53 4082.5,0 4181.5,0 4181.5,-53\"/>\n<text text-anchor=\"middle\" x=\"4132\" y=\"-37.8\" font-family=\"Helvetica,sans-Serif\" font-size=\"14.00\" fill=\"#000000\">samples = 7</text>\n<text text-anchor=\"middle\" x=\"4132\" y=\"-22.8\" font-family=\"Helvetica,sans-Serif\" font-size=\"14.00\" fill=\"#000000\">value = [3, 4]</text>\n<text text-anchor=\"middle\" x=\"4132\" y=\"-7.8\" font-family=\"Helvetica,sans-Serif\" font-size=\"14.00\" fill=\"#000000\">class = No</text>\n</g>\n<!-- 60&#45;&gt;61 -->\n<g id=\"edge61\" class=\"edge\">\n<title>60&#45;&gt;61</title>\n<path fill=\"none\" stroke=\"#000000\" d=\"M4132,-88.9777C4132,-80.7364 4132,-71.887 4132,-63.5153\"/>\n<polygon fill=\"#000000\" stroke=\"#000000\" points=\"4135.5001,-63.2484 4132,-53.2485 4128.5001,-63.2485 4135.5001,-63.2484\"/>\n</g>\n<!-- 62 -->\n<g id=\"node63\" class=\"node\">\n<title>62</title>\n<polygon fill=\"#44a2e6\" stroke=\"#000000\" points=\"4306.5,-53 4199.5,-53 4199.5,0 4306.5,0 4306.5,-53\"/>\n<text text-anchor=\"middle\" x=\"4253\" y=\"-37.8\" font-family=\"Helvetica,sans-Serif\" font-size=\"14.00\" fill=\"#000000\">samples = 77</text>\n<text text-anchor=\"middle\" x=\"4253\" y=\"-22.8\" font-family=\"Helvetica,sans-Serif\" font-size=\"14.00\" fill=\"#000000\">value = [4, 73]</text>\n<text text-anchor=\"middle\" x=\"4253\" y=\"-7.8\" font-family=\"Helvetica,sans-Serif\" font-size=\"14.00\" fill=\"#000000\">class = No</text>\n</g>\n<!-- 60&#45;&gt;62 -->\n<g id=\"edge62\" class=\"edge\">\n<title>60&#45;&gt;62</title>\n<path fill=\"none\" stroke=\"#000000\" d=\"M4174.6601,-88.9777C4186.6011,-79.4545 4199.5605,-69.1191 4211.437,-59.6473\"/>\n<polygon fill=\"#000000\" stroke=\"#000000\" points=\"4213.8246,-62.22 4219.4605,-53.2485 4209.46,-56.7473 4213.8246,-62.22\"/>\n</g>\n</g>\n</svg>\n"
          },
          "metadata": {}
        }
      ]
    },
    {
      "cell_type": "markdown",
      "source": [
        "<인사이트 도출>\n",
        "\n",
        "의사결정나무를 시각화 하였을 때 감마지티피와 연령대코드의 독립변수가 그 중요도가 가장 높다고 볼 수 있다"
      ],
      "metadata": {
        "id": "p70s4sCq-DiJ"
      }
    },
    {
      "cell_type": "code",
      "source": [
        "#변수들의 중요도 확인\n",
        "result = tree.feature_importances_\n",
        "print(\"변수의 중요도:\\n\", result)"
      ],
      "metadata": {
        "colab": {
          "base_uri": "https://localhost:8080/"
        },
        "id": "rgVQzRvHz9Za",
        "outputId": "be92c250-b927-4933-86ba-3dd1aeaf8309"
      },
      "execution_count": null,
      "outputs": [
        {
          "output_type": "stream",
          "name": "stdout",
          "text": [
            "변수의 중요도:\n",
            " [0.         0.01677062 0.01442866 0.07321563 0.35687735 0.01249308\n",
            " 0.00395948 0.         0.0089567  0.         0.         0.\n",
            " 0.00192044 0.         0.00265984 0.00634831 0.         0.\n",
            " 0.         0.00451365 0.         0.00389355 0.00493417 0.00549285\n",
            " 0.07942878 0.40410688 0.         0.         0.         0.        ]\n"
          ]
        }
      ]
    },
    {
      "cell_type": "markdown",
      "source": [
        "<인사이트 도출>\n",
        "1. 중요도 점수를 0에서부터 보았을 때 가장 높은 점수의 중요도를 가진 변수는 그 중요도가 0.404이라고 볼 수 있으며 반대로 가장 낮은 점수의 중요도는 0의 점수를 가지고 있다"
      ],
      "metadata": {
        "id": "Zm89GJX7_QH0"
      }
    },
    {
      "cell_type": "code",
      "source": [
        "#막대그래프로 중요 변수도 보기 \n",
        "import numpy as np\n",
        "\n",
        "def plot_feature_importances_health(model):\n",
        "    plt.rcParams[\"figure.figsize\"] = (9,6)\n",
        "    n_features = len(health.columns[1:]) \n",
        "    plt.barh(np.arange(n_features), model.feature_importances_, align='center') \n",
        "    plt.yticks(np.arange(n_features), health.columns[aa]) \n",
        "    plt.xlabel(\"feature importance\")\n",
        "    plt.ylabel(\"feature\")\n",
        "    plt.ylim(-1, n_features) \n",
        "\n",
        "plot_feature_importances_health(tree)"
      ],
      "metadata": {
        "colab": {
          "base_uri": "https://localhost:8080/",
          "height": 389
        },
        "id": "NUZY2LBk0gHA",
        "outputId": "368f3ac5-9acd-4d07-9be2-5b91e4fcc6d9"
      },
      "execution_count": null,
      "outputs": [
        {
          "output_type": "display_data",
          "data": {
            "text/plain": [
              "<Figure size 648x432 with 1 Axes>"
            ],
            "image/png": "[encoded data removed]"
          },
          "metadata": {
            "needs_background": "light"
          }
        }
      ]
    },
    {
      "cell_type": "markdown",
      "source": [
        "<인사이트 도출>\n",
        "\n",
        "1. 흡연상태가 중요도가 가장 큰 변수라고 볼 수 있으며 연령대코드, 감마지티피,성별코드 등도 차례대로 그 중요도를 이어가고 있다는 것을 알 수 있다. \n",
        "2. 그래프를 보았을 때 ALT와 혈색소와 같이 다소 막대가 짧은 것은 중요도가 떨어진다.\n",
        "3. 콜레스테롤과 청력과 같은 변수들은 숫자가 0이고 막대가 보이지는 않지만 중요성이 없는 것은 아니며 음주여부와 모두 상관관계가 있다. "
      ],
      "metadata": {
        "id": "t9nnx_WeBvFB"
      }
    },
    {
      "cell_type": "markdown",
      "source": [
        "# 랜덤 포레스트 (Random forest)"
      ],
      "metadata": {
        "id": "XK9Vx_9h1kxt"
      }
    },
    {
      "cell_type": "code",
      "source": [
        "#랜덤 포레스트 만들기\n",
        "\n",
        "from sklearn.ensemble import RandomForestClassifier \n",
        "\n",
        "forest = RandomForestClassifier(n_estimators=100, random_state=0)\n",
        "forest.fit(X_train, y_train)\n",
        "\n",
        "print(\"학습용 데이터 세트 정확도: {:.3f}\".format(forest.score(X_train, y_train)))\n",
        "print(\"시험용 데이터 세트 정확도: {:.3f}\".format(forest.score(X_test, y_test)))"
      ],
      "metadata": {
        "colab": {
          "base_uri": "https://localhost:8080/"
        },
        "id": "tg7X_lMpFRVl",
        "outputId": "4227e3b6-f798-4916-f779-b28ed67a08d8"
      },
      "execution_count": null,
      "outputs": [
        {
          "output_type": "stream",
          "name": "stdout",
          "text": [
            "학습용 데이터 세트 정확도: 1.000\n",
            "시험용 데이터 세트 정확도: 0.717\n"
          ]
        }
      ]
    },
    {
      "cell_type": "markdown",
      "source": [
        "<인사이트 도출>\n",
        "\n",
        "1. 의사결정나무 자체를 랜덤하게 복수로 만든 후 평균을 사용하는 것이기 때문에 결과가 더 좋게 나왔다는 것을 알 수 있다. \n",
        "2. 학습용 데이터 세트 정확도는 max_depth를 정하지 않았을 때에 의사결정나무와 그 값이 비슷하지만 depth를 정했을 때의 의사결정나무보다는 높았다. \n",
        "3. 시험용 데이터 세트 정확도는 depth를 정하지 않았을 때와 정했을 때의 의사결정나무보다 정확도 결과가 높게 나왔음을 알 수 있다. "
      ],
      "metadata": {
        "id": "ndRSfnASC23S"
      }
    },
    {
      "cell_type": "code",
      "source": [
        "#변수들의 중요도 확인 \n",
        "plot_feature_importances_health(forest)"
      ],
      "metadata": {
        "colab": {
          "base_uri": "https://localhost:8080/",
          "height": 389
        },
        "id": "pSrp7tdAFZY9",
        "outputId": "5f4f62cb-6aca-4a82-8fdf-f5931bfac840"
      },
      "execution_count": null,
      "outputs": [
        {
          "output_type": "display_data",
          "data": {
            "text/plain": [
              "<Figure size 648x432 with 1 Axes>"
            ],
            "image/png": "[encoded data removed]"
          },
          "metadata": {
            "needs_background": "light"
          }
        }
      ]
    },
    {
      "cell_type": "code",
      "source": [
        "# 단일 의사결정나무의 경우보다 많은 변수(feature)들이 사용됨"
      ],
      "metadata": {
        "id": "pgwCOyoBETpS"
      },
      "execution_count": null,
      "outputs": []
    },
    {
      "cell_type": "markdown",
      "source": [
        "<인사이트 도출>\n",
        "\n",
        "1. 의사결정나무의 막대그래프보다 중요성이 높은 변수들이 더 많음을 알 수 있다.\n",
        "2. 앞선 막대그래프와 다르게 이번에는 연령대코드가 가장높은 중요도를 차지하였고 (의사결정나무에서는 연령대코드), 앞서 볼 수 없었던 혈색소가 이번에는 연령대 코드 다음으로 긴 막대를 가지고 있다는 것을 알 수 있다. \n",
        "3. 또한 감마지티피는 앞선 막대그래프와 비슷한 중요성을 띄고 있음을 알 수 있고 \n",
        "반대로 AST와 ALT,청력 등과 같이 아예 막대가 없거나 정말 미미했던 변수들도 이번 막대 그래프에서는 높은 중요성을 띄고 있다. \n",
        "4. 랜덤포레스트에서는 데이터공개일자와 기준년도와 같이 사실상 관련이 없는 변수들을 제외한 모든 변수들이 그 중요성이 두드러지고 있다. \n",
        "\n"
      ],
      "metadata": {
        "id": "gGsqYBNrE7Ja"
      }
    },
    {
      "cell_type": "markdown",
      "source": [
        "# 교차 검증을 이용한 분류 모델 평가"
      ],
      "metadata": {
        "id": "zYXWfQTOP6j2"
      }
    },
    {
      "cell_type": "code",
      "source": [
        "from sklearn.model_selection import cross_val_score"
      ],
      "metadata": {
        "id": "YpJhDn72FulI"
      },
      "execution_count": null,
      "outputs": []
    },
    {
      "cell_type": "code",
      "source": [
        "dt_scores = cross_val_score(tree, X_train, y_train, cv=6, scoring='accuracy')  \n",
        "rf_scores = cross_val_score(forest, X_train, y_train, cv=6, scoring='accuracy')"
      ],
      "metadata": {
        "id": "YLiMEq7XP30m"
      },
      "execution_count": null,
      "outputs": []
    },
    {
      "cell_type": "code",
      "source": [
        "#교차검증을 통한 각 모델의 정확도 보기\n",
        "print(\"Accuracy\")\n",
        "print(\"Decision tree: \", dt_scores) \n",
        "print(\"Random forest: \", rf_scores) "
      ],
      "metadata": {
        "colab": {
          "base_uri": "https://localhost:8080/"
        },
        "id": "KNjXM-3kQPgI",
        "outputId": "b11580c1-5c9f-475f-906a-744e41b2c7be"
      },
      "execution_count": null,
      "outputs": [
        {
          "output_type": "stream",
          "name": "stdout",
          "text": [
            "Accuracy\n",
            "Decision tree:  [0.7304 0.704  0.6864 0.7144 0.704  0.7   ]\n",
            "Random forest:  [0.7272 0.7072 0.6888 0.7192 0.7024 0.7144]\n"
          ]
        }
      ]
    },
    {
      "cell_type": "code",
      "source": [
        "#평균을 이용한 교차검증을 통해 각 모델의 정확도 보기\n",
        "print(\"Accuracy mean\")\n",
        "print(\"Decision tree :{:.3f}\".format(dt_scores.mean())) #알고싶은건 mean값\n",
        "print(\"Random forest :{:.3f}\".format(rf_scores.mean())) "
      ],
      "metadata": {
        "colab": {
          "base_uri": "https://localhost:8080/"
        },
        "id": "chZvMp4JQYrm",
        "outputId": "3017c6e9-cf2a-41a6-f9bd-59e97457f492"
      },
      "execution_count": null,
      "outputs": [
        {
          "output_type": "stream",
          "name": "stdout",
          "text": [
            "Accuracy mean\n",
            "Decision tree :0.707\n",
            "Random forest :0.710\n"
          ]
        }
      ]
    },
    {
      "cell_type": "markdown",
      "source": [
        "<최종 인사이트 도출>\n",
        "\n",
        "1. 6번의 교차검증을 실행하고 각 평균 정확도를 비교해보았을 때 결론적으로 랜덤 포레스트의 평균 정확도가 의사결정나무의 평균 정확도보다 우수하다는 것을 알 수 있다. \n",
        "2. 교차 검증을 굳이 사용하지 않았어도 앞선 과정을 통해 랜덤 포레스트가 더 우수힌정확도를 보유하고 있음을 볼 수 있다.\n",
        "3. 의사결정나무와 다르게 랜덤포레스트는 의사결정나무를 복수로 만들고 이를의 평균을 정확도 계산에 사용하기 때문에 의사결정나무보다 그 성능과 결과가 더욱 좋으며 이는 교차검증을 통해 숫자로 검증이 되었다.\n",
        "4. 랜덤 포레스트가 최적의 모델이다. "
      ],
      "metadata": {
        "id": "0CQqT2L4HDvQ"
      }
    }
  ]
}